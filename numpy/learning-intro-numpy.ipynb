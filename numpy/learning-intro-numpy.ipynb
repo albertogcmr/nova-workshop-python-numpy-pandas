{
 "cells": [
  {
   "cell_type": "markdown",
   "metadata": {},
   "source": [
    "# Intro to Numpy\n",
    "\n",
    "## Introduction\n",
    "\n",
    "Many of the libraries you will use to perform data analysis in Python, as well as many of the mathematical functions you’ll use, will involve working with Numpy. Numpy (short for Numerical Python) is used for numeric computing and includes support for multi-dimensional arrays and matrices along with a variety of mathematical functions to apply to them. In this lesson, we will learn about Numpy’s primary data structures and how to apply some basic math functions to them.\n",
    "\n",
    "## Importing Numpy\n",
    "\n",
    "In order to use Numpy, you must first import it. It is common to also alias it to np using the as keyword so that you don’t have to spell out “numpy” every time you want to call one of its methods."
   ]
  },
  {
   "cell_type": "code",
   "execution_count": null,
   "metadata": {},
   "outputs": [],
   "source": [
    "import numpy as np"
   ]
  },
  {
   "cell_type": "markdown",
   "metadata": {},
   "source": [
    "Once the library has been imported, it is ready to use.\n",
    "## Numpy Arrays\n",
    "\n",
    "The basic data structures in Numpy are arrays, which can be used to represent tabular data. You can think of arrays as lists of lists, where all the elements of a list are of the same type (typically numeric since the reason you use Numpy is to do numeric computing). A matrix is just a two-dimensional array.\n",
    "\n",
    "The size of an array is the total number of elements in every list. The shape of an array is the size of the array along each dimension (e.g. number of rows and number of columns for a two-dimensional array). Let’s create a two dimensional 10 x 4 array containing random numbers and calculate the shape and size of the array using the shape and size methods."
   ]
  },
  {
   "cell_type": "code",
   "execution_count": null,
   "metadata": {},
   "outputs": [],
   "source": [
    "a = np.random.random((10,4))\n",
    "print(a)"
   ]
  },
  {
   "cell_type": "code",
   "execution_count": null,
   "metadata": {},
   "outputs": [],
   "source": [
    "print(a.shape)\n",
    "print(a.size)"
   ]
  },
  {
   "cell_type": "markdown",
   "metadata": {},
   "source": [
    "As you can see, the array has a shape of 10 x 4 (just as we specified) and the total number of elements in the array is 40.\n",
    "\n",
    "Now that we have seen an example of a basic two-dimensional array (a matrix), let’s learn about how creating arrays with more dimensions than two works in Numpy. Let’s build a three-dimensional array of random numbers and see what that looks like."
   ]
  },
  {
   "cell_type": "code",
   "execution_count": null,
   "metadata": {},
   "outputs": [],
   "source": [
    "b = np.random.random((5,2,3))\n",
    "print(b)"
   ]
  },
  {
   "cell_type": "markdown",
   "metadata": {},
   "source": [
    "This created an array with five groups of 2 x 3 matrices. Let’s see what happens if we pass four dimensions."
   ]
  },
  {
   "cell_type": "markdown",
   "metadata": {},
   "source": [
    "This time, we got two groups of three 4 x 5 matrices.\n",
    "## Extracting Data from Arrays\n",
    "\n",
    "Extracting elements from arrays works just like it does for other Python data structures. We just need to reference the indexes of the values we want to extract. Below are some examples of how to reference specific rows, columns, and values in a two dimensional array."
   ]
  },
  {
   "cell_type": "code",
   "execution_count": null,
   "metadata": {},
   "outputs": [],
   "source": [
    "# First row of matrix a\n",
    "print(a[0])"
   ]
  },
  {
   "cell_type": "code",
   "execution_count": null,
   "metadata": {},
   "outputs": [],
   "source": [
    "# First column of matrix a\n",
    "print(a[:,0])"
   ]
  },
  {
   "cell_type": "code",
   "execution_count": null,
   "metadata": {},
   "outputs": [],
   "source": [
    "# Value in the fifth row and third column of matrix a\n",
    "print(a[4,2])"
   ]
  },
  {
   "cell_type": "code",
   "execution_count": null,
   "metadata": {},
   "outputs": [],
   "source": [
    "# Frame\n",
    "print(a)\n",
    "print()\n",
    "print(a[1:5, 1:3])"
   ]
  },
  {
   "cell_type": "markdown",
   "metadata": {},
   "source": [
    "## Converting Other Data Structures to Arrays\n",
    "\n",
    "If you have data in another type of data structure and you would like to convert it to an array so that you can take advantage of Numpy’s mathematical functions, you can convert them using the array() method as follows."
   ]
  },
  {
   "cell_type": "code",
   "execution_count": null,
   "metadata": {},
   "outputs": [],
   "source": [
    "lst_lst = [[1,2,3],[4,5,6],[7,8,9]]\n",
    "d = np.array(lst_lst)\n",
    "print(d)"
   ]
  },
  {
   "cell_type": "markdown",
   "metadata": {},
   "source": [
    "This works the same way whether you have a list of lists, a list of tuples, a tuple of lists, or a tuple of tuples.\n",
    "## Numpy Math Functions\n",
    "\n",
    "Now that we know how to create and navigate arrays, let’s take a look at how to perform mathematical calculations on them.\n",
    "\n",
    "One of the most common (and useful) functions is np.sum, which lets you obtain the sum of any elements you select from an array."
   ]
  },
  {
   "cell_type": "code",
   "execution_count": null,
   "metadata": {},
   "outputs": [],
   "source": [
    "# Sum of all elements in matrix a\n",
    "print(np.sum(a))"
   ]
  },
  {
   "cell_type": "code",
   "execution_count": null,
   "metadata": {},
   "outputs": [],
   "source": [
    "# Sum of each column in matrix a\n",
    "print(np.sum(a, axis=0))"
   ]
  },
  {
   "cell_type": "code",
   "execution_count": null,
   "metadata": {},
   "outputs": [],
   "source": [
    "# Sum of each row in matrix a\n",
    "print(np.sum(a, axis=1))"
   ]
  },
  {
   "cell_type": "markdown",
   "metadata": {},
   "source": [
    "The `np.mean` function works the same way and is also very useful."
   ]
  },
  {
   "cell_type": "code",
   "execution_count": null,
   "metadata": {},
   "outputs": [],
   "source": [
    "# Mean of all elements in matrix a\n",
    "print(np.mean(a))"
   ]
  },
  {
   "cell_type": "code",
   "execution_count": null,
   "metadata": {},
   "outputs": [],
   "source": [
    "# Mean of each column in matrix a\n",
    "print(np.mean(a, axis=0))"
   ]
  },
  {
   "cell_type": "code",
   "execution_count": null,
   "metadata": {},
   "outputs": [],
   "source": [
    "# Mean of each row in matrix a\n",
    "print(np.mean(a, axis=1))"
   ]
  },
  {
   "cell_type": "markdown",
   "metadata": {},
   "source": [
    "In addition to letting you perform calculations on individual arrays, Numpy also lets you perform calculations between arrays. For example, let’s select two of the subarrays from array c to illustrate how this works."
   ]
  },
  {
   "cell_type": "code",
   "execution_count": null,
   "metadata": {},
   "outputs": [],
   "source": [
    "x = a[0, :]\n",
    "x"
   ]
  },
  {
   "cell_type": "code",
   "execution_count": null,
   "metadata": {},
   "outputs": [],
   "source": [
    "y = a[1:5, 0]\n",
    "y"
   ]
  },
  {
   "cell_type": "markdown",
   "metadata": {},
   "source": [
    "We can now add, subtract, multiply, and divide the two arrays."
   ]
  },
  {
   "cell_type": "code",
   "execution_count": null,
   "metadata": {},
   "outputs": [],
   "source": [
    "# Add elements of x and y together\n",
    "print(np.add(x, y))"
   ]
  },
  {
   "cell_type": "code",
   "execution_count": null,
   "metadata": {},
   "outputs": [],
   "source": [
    "# Subtract elements of x from elements of y\n",
    "print(np.subtract(y, x))"
   ]
  },
  {
   "cell_type": "code",
   "execution_count": null,
   "metadata": {},
   "outputs": [],
   "source": [
    "# Multiply elements of x and y together\n",
    "print(np.multiply(x, y))"
   ]
  },
  {
   "cell_type": "code",
   "execution_count": null,
   "metadata": {},
   "outputs": [],
   "source": [
    "# Divide elements of y by elements of x\n",
    "print(np.divide(y, x))"
   ]
  },
  {
   "cell_type": "markdown",
   "metadata": {},
   "source": [
    "This is only the tip of the iceberg. Numpy has many more functions, which you can and should explore. You can read more about them in the Numpy documentation."
   ]
  },
  {
   "cell_type": "markdown",
   "metadata": {},
   "source": [
    "## Solver\n",
    "https://het.as.utexas.edu/HET/Software/Numpy/reference/generated/numpy.linalg.solve.html\n",
    "\n",
    "Solve the system of equations: \n",
    "```\n",
    "3 * x0 + 1 * x1 = 9\n",
    "1 * x0 + 2 * x1 = 8\n",
    "```"
   ]
  },
  {
   "cell_type": "code",
   "execution_count": null,
   "metadata": {},
   "outputs": [],
   "source": [
    "a = np.array([[3,1], [1,2]])\n",
    "b = np.array([9,8])\n",
    "x = np.linalg.solve(a, b)\n",
    "x\n"
   ]
  },
  {
   "cell_type": "markdown",
   "metadata": {},
   "source": [
    "## Summary\n",
    "\n",
    "In this lesson, we learned the basics of working with Numpy. First, we learned how to import the library so that we could use it. From there, we learned about Numpy arrays, including how to extract data from them and how to convert to them from other Python data structures. Finally, we covered some of the basic mathematical functions in Numpy and saw how we could apply them both to the elements of an array as well as to whole arrays themselves."
   ]
  },
  {
   "cell_type": "code",
   "execution_count": null,
   "metadata": {},
   "outputs": [],
   "source": []
  }
 ],
 "metadata": {
  "kernelspec": {
   "display_name": "Python 3",
   "language": "python",
   "name": "python3"
  },
  "language_info": {
   "codemirror_mode": {
    "name": "ipython",
    "version": 3
   },
   "file_extension": ".py",
   "mimetype": "text/x-python",
   "name": "python",
   "nbconvert_exporter": "python",
   "pygments_lexer": "ipython3",
   "version": "3.6.8"
  }
 },
 "nbformat": 4,
 "nbformat_minor": 2
}
