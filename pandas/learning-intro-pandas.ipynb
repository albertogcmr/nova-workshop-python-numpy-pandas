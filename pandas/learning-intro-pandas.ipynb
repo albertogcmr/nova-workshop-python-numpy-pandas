{
 "cells": [
  {
   "cell_type": "markdown",
   "metadata": {},
   "source": [
    "# Introduction to Pandas\n",
    "\n",
    "## Introduction\n",
    "\n",
    "As a data analyst with Python in your tool kit, one of the libraries you will use most often will be Pandas. Pandas is a useful library that makes data wrangling, transformation, and analysis easier and more intuitive. In this lesson, we will learn about Pandas data structures and how to apply some basic math functions to them.\n",
    "\n",
    "As with Numpy in the previous lesson, you must import Pandas to be able to use it. Just like Numpy is typically aliased to np, Pandas is usually aliased to pd. Let’s import both of them so that we can use them in this lesson."
   ]
  },
  {
   "cell_type": "code",
   "execution_count": 1,
   "metadata": {},
   "outputs": [],
   "source": [
    "import numpy as np\n",
    "import pandas as pd"
   ]
  },
  {
   "cell_type": "markdown",
   "metadata": {},
   "source": [
    "Now that both libraries are imported, we can begin using them."
   ]
  },
  {
   "cell_type": "markdown",
   "metadata": {},
   "source": [
    "## Pandas Data Structures\n",
    "\n",
    "The primary data structures in Pandas are Series and DataFrames. A series is an indexed one-dimensional array where the values can be of any data type. Let’s create a series consisting of 10 random numbers using the Pandas Series() method."
   ]
  },
  {
   "cell_type": "code",
   "execution_count": 2,
   "metadata": {},
   "outputs": [
    {
     "name": "stdout",
     "output_type": "stream",
     "text": [
      "0    0.031456\n",
      "1    0.350892\n",
      "2    0.763137\n",
      "3    0.260444\n",
      "4    0.337814\n",
      "5    0.468577\n",
      "6    0.208904\n",
      "7    0.729815\n",
      "8    0.513201\n",
      "9    0.132632\n",
      "dtype: float64\n"
     ]
    }
   ],
   "source": [
    "a = pd.Series(np.random.random(10))\n",
    "print(a)"
   ]
  },
  {
   "cell_type": "markdown",
   "metadata": {},
   "source": [
    "As you can see, this generated an indexed array of random numbers. Just as with other Python data structures, we can reference the elements of this array by their indexes."
   ]
  },
  {
   "cell_type": "code",
   "execution_count": 3,
   "metadata": {},
   "outputs": [
    {
     "data": {
      "text/plain": [
       "0.03145599894078377"
      ]
     },
     "execution_count": 3,
     "metadata": {},
     "output_type": "execute_result"
    }
   ],
   "source": [
    "a[0]"
   ]
  },
  {
   "cell_type": "code",
   "execution_count": 4,
   "metadata": {},
   "outputs": [
    {
     "data": {
      "text/plain": [
       "0.468576890851338"
      ]
     },
     "execution_count": 4,
     "metadata": {},
     "output_type": "execute_result"
    }
   ],
   "source": [
    "a[5]"
   ]
  },
  {
   "cell_type": "markdown",
   "metadata": {},
   "source": [
    "The other type of data structure, DataFrames, are two-dimensional indexed structures where each column can be of a different data type. DataFrames are very similar to spreadsheets and database tables, and they are one of the most useful data structures you will be working with as a data analyst.\n",
    "\n",
    "DataFrames can be generated using the Pandas DataFrame method as follows. We are also going to assign specific column names to each column in the data frame by passing a variable named colnames with a list of column names to the columns argument."
   ]
  },
  {
   "cell_type": "code",
   "execution_count": 5,
   "metadata": {},
   "outputs": [
    {
     "data": {
      "text/html": [
       "<div>\n",
       "<style scoped>\n",
       "    .dataframe tbody tr th:only-of-type {\n",
       "        vertical-align: middle;\n",
       "    }\n",
       "\n",
       "    .dataframe tbody tr th {\n",
       "        vertical-align: top;\n",
       "    }\n",
       "\n",
       "    .dataframe thead th {\n",
       "        text-align: right;\n",
       "    }\n",
       "</style>\n",
       "<table border=\"1\" class=\"dataframe\">\n",
       "  <thead>\n",
       "    <tr style=\"text-align: right;\">\n",
       "      <th></th>\n",
       "      <th>Column1</th>\n",
       "      <th>Column2</th>\n",
       "      <th>Column3</th>\n",
       "      <th>Column4</th>\n",
       "      <th>Column5</th>\n",
       "    </tr>\n",
       "  </thead>\n",
       "  <tbody>\n",
       "    <tr>\n",
       "      <td>0</td>\n",
       "      <td>0.530661</td>\n",
       "      <td>0.884508</td>\n",
       "      <td>0.957558</td>\n",
       "      <td>0.623064</td>\n",
       "      <td>0.763492</td>\n",
       "    </tr>\n",
       "    <tr>\n",
       "      <td>1</td>\n",
       "      <td>0.226038</td>\n",
       "      <td>0.244370</td>\n",
       "      <td>0.026195</td>\n",
       "      <td>0.580051</td>\n",
       "      <td>0.424667</td>\n",
       "    </tr>\n",
       "    <tr>\n",
       "      <td>2</td>\n",
       "      <td>0.249258</td>\n",
       "      <td>0.156938</td>\n",
       "      <td>0.611963</td>\n",
       "      <td>0.207141</td>\n",
       "      <td>0.538864</td>\n",
       "    </tr>\n",
       "    <tr>\n",
       "      <td>3</td>\n",
       "      <td>0.428704</td>\n",
       "      <td>0.190797</td>\n",
       "      <td>0.560860</td>\n",
       "      <td>0.485217</td>\n",
       "      <td>0.145508</td>\n",
       "    </tr>\n",
       "    <tr>\n",
       "      <td>4</td>\n",
       "      <td>0.285898</td>\n",
       "      <td>0.836812</td>\n",
       "      <td>0.630909</td>\n",
       "      <td>0.636733</td>\n",
       "      <td>0.465846</td>\n",
       "    </tr>\n",
       "    <tr>\n",
       "      <td>5</td>\n",
       "      <td>0.167582</td>\n",
       "      <td>0.067980</td>\n",
       "      <td>0.142258</td>\n",
       "      <td>0.535261</td>\n",
       "      <td>0.496687</td>\n",
       "    </tr>\n",
       "    <tr>\n",
       "      <td>6</td>\n",
       "      <td>0.729025</td>\n",
       "      <td>0.906460</td>\n",
       "      <td>0.493274</td>\n",
       "      <td>0.391776</td>\n",
       "      <td>0.627490</td>\n",
       "    </tr>\n",
       "    <tr>\n",
       "      <td>7</td>\n",
       "      <td>0.384982</td>\n",
       "      <td>0.046104</td>\n",
       "      <td>0.925257</td>\n",
       "      <td>0.165194</td>\n",
       "      <td>0.539942</td>\n",
       "    </tr>\n",
       "    <tr>\n",
       "      <td>8</td>\n",
       "      <td>0.091503</td>\n",
       "      <td>0.605568</td>\n",
       "      <td>0.660108</td>\n",
       "      <td>0.147227</td>\n",
       "      <td>0.230076</td>\n",
       "    </tr>\n",
       "    <tr>\n",
       "      <td>9</td>\n",
       "      <td>0.864755</td>\n",
       "      <td>0.579951</td>\n",
       "      <td>0.051139</td>\n",
       "      <td>0.732507</td>\n",
       "      <td>0.710657</td>\n",
       "    </tr>\n",
       "  </tbody>\n",
       "</table>\n",
       "</div>"
      ],
      "text/plain": [
       "    Column1   Column2   Column3   Column4   Column5\n",
       "0  0.530661  0.884508  0.957558  0.623064  0.763492\n",
       "1  0.226038  0.244370  0.026195  0.580051  0.424667\n",
       "2  0.249258  0.156938  0.611963  0.207141  0.538864\n",
       "3  0.428704  0.190797  0.560860  0.485217  0.145508\n",
       "4  0.285898  0.836812  0.630909  0.636733  0.465846\n",
       "5  0.167582  0.067980  0.142258  0.535261  0.496687\n",
       "6  0.729025  0.906460  0.493274  0.391776  0.627490\n",
       "7  0.384982  0.046104  0.925257  0.165194  0.539942\n",
       "8  0.091503  0.605568  0.660108  0.147227  0.230076\n",
       "9  0.864755  0.579951  0.051139  0.732507  0.710657"
      ]
     },
     "execution_count": 5,
     "metadata": {},
     "output_type": "execute_result"
    }
   ],
   "source": [
    "colnames = ['Column1','Column2','Column3','Column4','Column5']\n",
    "df = pd.DataFrame(np.random.random((10,5)), columns=colnames)\n",
    "df"
   ]
  },
  {
   "cell_type": "code",
   "execution_count": 6,
   "metadata": {},
   "outputs": [
    {
     "data": {
      "text/html": [
       "<div>\n",
       "<style scoped>\n",
       "    .dataframe tbody tr th:only-of-type {\n",
       "        vertical-align: middle;\n",
       "    }\n",
       "\n",
       "    .dataframe tbody tr th {\n",
       "        vertical-align: top;\n",
       "    }\n",
       "\n",
       "    .dataframe thead th {\n",
       "        text-align: right;\n",
       "    }\n",
       "</style>\n",
       "<table border=\"1\" class=\"dataframe\">\n",
       "  <thead>\n",
       "    <tr style=\"text-align: right;\">\n",
       "      <th></th>\n",
       "      <th>Column1</th>\n",
       "      <th>Column2</th>\n",
       "      <th>Column3</th>\n",
       "      <th>Column4</th>\n",
       "      <th>Column5</th>\n",
       "    </tr>\n",
       "  </thead>\n",
       "  <tbody>\n",
       "    <tr>\n",
       "      <td>count</td>\n",
       "      <td>10.000000</td>\n",
       "      <td>10.000000</td>\n",
       "      <td>10.000000</td>\n",
       "      <td>10.000000</td>\n",
       "      <td>10.000000</td>\n",
       "    </tr>\n",
       "    <tr>\n",
       "      <td>mean</td>\n",
       "      <td>0.395841</td>\n",
       "      <td>0.451949</td>\n",
       "      <td>0.505952</td>\n",
       "      <td>0.450417</td>\n",
       "      <td>0.494323</td>\n",
       "    </tr>\n",
       "    <tr>\n",
       "      <td>std</td>\n",
       "      <td>0.248863</td>\n",
       "      <td>0.348370</td>\n",
       "      <td>0.333808</td>\n",
       "      <td>0.212187</td>\n",
       "      <td>0.193855</td>\n",
       "    </tr>\n",
       "    <tr>\n",
       "      <td>min</td>\n",
       "      <td>0.091503</td>\n",
       "      <td>0.046104</td>\n",
       "      <td>0.026195</td>\n",
       "      <td>0.147227</td>\n",
       "      <td>0.145508</td>\n",
       "    </tr>\n",
       "    <tr>\n",
       "      <td>25%</td>\n",
       "      <td>0.231843</td>\n",
       "      <td>0.165403</td>\n",
       "      <td>0.230012</td>\n",
       "      <td>0.253299</td>\n",
       "      <td>0.434961</td>\n",
       "    </tr>\n",
       "    <tr>\n",
       "      <td>50%</td>\n",
       "      <td>0.335440</td>\n",
       "      <td>0.412161</td>\n",
       "      <td>0.586411</td>\n",
       "      <td>0.510239</td>\n",
       "      <td>0.517775</td>\n",
       "    </tr>\n",
       "    <tr>\n",
       "      <td>75%</td>\n",
       "      <td>0.505172</td>\n",
       "      <td>0.779001</td>\n",
       "      <td>0.652808</td>\n",
       "      <td>0.612311</td>\n",
       "      <td>0.605603</td>\n",
       "    </tr>\n",
       "    <tr>\n",
       "      <td>max</td>\n",
       "      <td>0.864755</td>\n",
       "      <td>0.906460</td>\n",
       "      <td>0.957558</td>\n",
       "      <td>0.732507</td>\n",
       "      <td>0.763492</td>\n",
       "    </tr>\n",
       "  </tbody>\n",
       "</table>\n",
       "</div>"
      ],
      "text/plain": [
       "         Column1    Column2    Column3    Column4    Column5\n",
       "count  10.000000  10.000000  10.000000  10.000000  10.000000\n",
       "mean    0.395841   0.451949   0.505952   0.450417   0.494323\n",
       "std     0.248863   0.348370   0.333808   0.212187   0.193855\n",
       "min     0.091503   0.046104   0.026195   0.147227   0.145508\n",
       "25%     0.231843   0.165403   0.230012   0.253299   0.434961\n",
       "50%     0.335440   0.412161   0.586411   0.510239   0.517775\n",
       "75%     0.505172   0.779001   0.652808   0.612311   0.605603\n",
       "max     0.864755   0.906460   0.957558   0.732507   0.763492"
      ]
     },
     "execution_count": 6,
     "metadata": {},
     "output_type": "execute_result"
    }
   ],
   "source": [
    "df.describe()"
   ]
  },
  {
   "cell_type": "code",
   "execution_count": 7,
   "metadata": {},
   "outputs": [
    {
     "data": {
      "text/plain": [
       "Column1    float64\n",
       "Column2    float64\n",
       "Column3    float64\n",
       "Column4    float64\n",
       "Column5    float64\n",
       "dtype: object"
      ]
     },
     "execution_count": 7,
     "metadata": {},
     "output_type": "execute_result"
    }
   ],
   "source": [
    "df.dtypes"
   ]
  },
  {
   "cell_type": "code",
   "execution_count": 8,
   "metadata": {},
   "outputs": [
    {
     "data": {
      "text/plain": [
       "Column1    10\n",
       "Column2    10\n",
       "Column3    10\n",
       "Column4    10\n",
       "Column5    10\n",
       "dtype: int64"
      ]
     },
     "execution_count": 8,
     "metadata": {},
     "output_type": "execute_result"
    }
   ],
   "source": [
    "df.nunique()"
   ]
  },
  {
   "cell_type": "markdown",
   "metadata": {},
   "source": [
    "We can reference each of the columns in a data frame directly by the column name as follows."
   ]
  },
  {
   "cell_type": "code",
   "execution_count": 9,
   "metadata": {},
   "outputs": [
    {
     "data": {
      "text/plain": [
       "0    0.530661\n",
       "1    0.226038\n",
       "2    0.249258\n",
       "3    0.428704\n",
       "4    0.285898\n",
       "5    0.167582\n",
       "6    0.729025\n",
       "7    0.384982\n",
       "8    0.091503\n",
       "9    0.864755\n",
       "Name: Column1, dtype: float64"
      ]
     },
     "execution_count": 9,
     "metadata": {},
     "output_type": "execute_result"
    }
   ],
   "source": [
    "df['Column1']"
   ]
  },
  {
   "cell_type": "markdown",
   "metadata": {},
   "source": [
    "![](http://pluspng.com/img-png/cartoon-houses-png-hd-vector-seaside-villa-hd-vector-house-free-png-and-vector-650.jpg)\n",
    "\n",
    "## Converting Other Data Structures to DataFrames\n",
    "\n",
    "We can apply the same `pd.DataFrame` method to that list of lists and Pandas will create a data frame with columns based on each index in the sublists."
   ]
  },
  {
   "cell_type": "code",
   "execution_count": 10,
   "metadata": {},
   "outputs": [
    {
     "data": {
      "text/html": [
       "<div>\n",
       "<style scoped>\n",
       "    .dataframe tbody tr th:only-of-type {\n",
       "        vertical-align: middle;\n",
       "    }\n",
       "\n",
       "    .dataframe tbody tr th {\n",
       "        vertical-align: top;\n",
       "    }\n",
       "\n",
       "    .dataframe thead th {\n",
       "        text-align: right;\n",
       "    }\n",
       "</style>\n",
       "<table border=\"1\" class=\"dataframe\">\n",
       "  <thead>\n",
       "    <tr style=\"text-align: right;\">\n",
       "      <th></th>\n",
       "      <th>LotSize</th>\n",
       "      <th>Neighborhood</th>\n",
       "      <th>YearBuilt</th>\n",
       "      <th>Quality</th>\n",
       "      <th>SalePrice</th>\n",
       "    </tr>\n",
       "  </thead>\n",
       "  <tbody>\n",
       "    <tr>\n",
       "      <td>0</td>\n",
       "      <td>8450</td>\n",
       "      <td>CollgCr</td>\n",
       "      <td>2003</td>\n",
       "      <td>7</td>\n",
       "      <td>208500</td>\n",
       "    </tr>\n",
       "    <tr>\n",
       "      <td>1</td>\n",
       "      <td>9600</td>\n",
       "      <td>Veenker</td>\n",
       "      <td>1976</td>\n",
       "      <td>6</td>\n",
       "      <td>181500</td>\n",
       "    </tr>\n",
       "    <tr>\n",
       "      <td>2</td>\n",
       "      <td>11250</td>\n",
       "      <td>CollgCr</td>\n",
       "      <td>2001</td>\n",
       "      <td>7</td>\n",
       "      <td>223500</td>\n",
       "    </tr>\n",
       "    <tr>\n",
       "      <td>3</td>\n",
       "      <td>9550</td>\n",
       "      <td>Crawfor</td>\n",
       "      <td>1915</td>\n",
       "      <td>7</td>\n",
       "      <td>140000</td>\n",
       "    </tr>\n",
       "    <tr>\n",
       "      <td>4</td>\n",
       "      <td>14260</td>\n",
       "      <td>NoRidge</td>\n",
       "      <td>2000</td>\n",
       "      <td>8</td>\n",
       "      <td>250000</td>\n",
       "    </tr>\n",
       "    <tr>\n",
       "      <td>5</td>\n",
       "      <td>14115</td>\n",
       "      <td>Mitchel</td>\n",
       "      <td>1993</td>\n",
       "      <td>5</td>\n",
       "      <td>143000</td>\n",
       "    </tr>\n",
       "    <tr>\n",
       "      <td>6</td>\n",
       "      <td>10084</td>\n",
       "      <td>Somerst</td>\n",
       "      <td>2004</td>\n",
       "      <td>8</td>\n",
       "      <td>307000</td>\n",
       "    </tr>\n",
       "    <tr>\n",
       "      <td>7</td>\n",
       "      <td>10382</td>\n",
       "      <td>NWAmes</td>\n",
       "      <td>1973</td>\n",
       "      <td>7</td>\n",
       "      <td>200000</td>\n",
       "    </tr>\n",
       "    <tr>\n",
       "      <td>8</td>\n",
       "      <td>6120</td>\n",
       "      <td>OldTown</td>\n",
       "      <td>1931</td>\n",
       "      <td>7</td>\n",
       "      <td>129900</td>\n",
       "    </tr>\n",
       "    <tr>\n",
       "      <td>9</td>\n",
       "      <td>7420</td>\n",
       "      <td>BrkSide</td>\n",
       "      <td>1939</td>\n",
       "      <td>5</td>\n",
       "      <td>118000</td>\n",
       "    </tr>\n",
       "  </tbody>\n",
       "</table>\n",
       "</div>"
      ],
      "text/plain": [
       "   LotSize Neighborhood  YearBuilt  Quality  SalePrice\n",
       "0     8450      CollgCr       2003        7     208500\n",
       "1     9600      Veenker       1976        6     181500\n",
       "2    11250      CollgCr       2001        7     223500\n",
       "3     9550      Crawfor       1915        7     140000\n",
       "4    14260      NoRidge       2000        8     250000\n",
       "5    14115      Mitchel       1993        5     143000\n",
       "6    10084      Somerst       2004        8     307000\n",
       "7    10382       NWAmes       1973        7     200000\n",
       "8     6120      OldTown       1931        7     129900\n",
       "9     7420      BrkSide       1939        5     118000"
      ]
     },
     "execution_count": 10,
     "metadata": {},
     "output_type": "execute_result"
    }
   ],
   "source": [
    "lst_lst = [[8450, 'CollgCr', 2003, 7, 208500],\n",
    "           [9600, 'Veenker', 1976, 6, 181500],\n",
    "           [11250, 'CollgCr', 2001, 7, 223500],\n",
    "           [9550, 'Crawfor', 1915, 7, 140000],\n",
    "           [14260, 'NoRidge', 2000, 8, 250000],\n",
    "           [14115, 'Mitchel', 1993, 5, 143000],\n",
    "           [10084, 'Somerst', 2004, 8, 307000],\n",
    "           [10382, 'NWAmes', 1973, 7, 200000],\n",
    "           [6120, 'OldTown', 1931, 7, 129900],\n",
    "           [7420, 'BrkSide', 1939, 5, 118000]]\n",
    "\n",
    "colnames = ['LotSize','Neighborhood','YearBuilt','Quality','SalePrice']\n",
    "\n",
    "df = pd.DataFrame(lst_lst, columns=colnames)\n",
    "df"
   ]
  },
  {
   "cell_type": "code",
   "execution_count": 11,
   "metadata": {},
   "outputs": [
    {
     "data": {
      "text/html": [
       "<div>\n",
       "<style scoped>\n",
       "    .dataframe tbody tr th:only-of-type {\n",
       "        vertical-align: middle;\n",
       "    }\n",
       "\n",
       "    .dataframe tbody tr th {\n",
       "        vertical-align: top;\n",
       "    }\n",
       "\n",
       "    .dataframe thead th {\n",
       "        text-align: right;\n",
       "    }\n",
       "</style>\n",
       "<table border=\"1\" class=\"dataframe\">\n",
       "  <thead>\n",
       "    <tr style=\"text-align: right;\">\n",
       "      <th></th>\n",
       "      <th>LotSize</th>\n",
       "      <th>Neighborhood</th>\n",
       "      <th>YearBuilt</th>\n",
       "      <th>Quality</th>\n",
       "      <th>SalePrice</th>\n",
       "    </tr>\n",
       "  </thead>\n",
       "  <tbody>\n",
       "    <tr>\n",
       "      <td>0</td>\n",
       "      <td>8450</td>\n",
       "      <td>CollgCr</td>\n",
       "      <td>2003</td>\n",
       "      <td>7</td>\n",
       "      <td>208500</td>\n",
       "    </tr>\n",
       "    <tr>\n",
       "      <td>1</td>\n",
       "      <td>9600</td>\n",
       "      <td>Veenker</td>\n",
       "      <td>1976</td>\n",
       "      <td>6</td>\n",
       "      <td>181500</td>\n",
       "    </tr>\n",
       "    <tr>\n",
       "      <td>2</td>\n",
       "      <td>11250</td>\n",
       "      <td>CollgCr</td>\n",
       "      <td>2001</td>\n",
       "      <td>7</td>\n",
       "      <td>223500</td>\n",
       "    </tr>\n",
       "    <tr>\n",
       "      <td>3</td>\n",
       "      <td>9550</td>\n",
       "      <td>Crawfor</td>\n",
       "      <td>1915</td>\n",
       "      <td>7</td>\n",
       "      <td>140000</td>\n",
       "    </tr>\n",
       "    <tr>\n",
       "      <td>4</td>\n",
       "      <td>14260</td>\n",
       "      <td>NoRidge</td>\n",
       "      <td>2000</td>\n",
       "      <td>8</td>\n",
       "      <td>250000</td>\n",
       "    </tr>\n",
       "  </tbody>\n",
       "</table>\n",
       "</div>"
      ],
      "text/plain": [
       "   LotSize Neighborhood  YearBuilt  Quality  SalePrice\n",
       "0     8450      CollgCr       2003        7     208500\n",
       "1     9600      Veenker       1976        6     181500\n",
       "2    11250      CollgCr       2001        7     223500\n",
       "3     9550      Crawfor       1915        7     140000\n",
       "4    14260      NoRidge       2000        8     250000"
      ]
     },
     "execution_count": 11,
     "metadata": {},
     "output_type": "execute_result"
    }
   ],
   "source": [
    "df.head()"
   ]
  },
  {
   "cell_type": "markdown",
   "metadata": {},
   "source": [
    "List are not the only data structures that can be converted to a data frame. Data frames can also be created from data stored in a dictionary. Suppose we had a dictionary where the values contained the same information we had in our list of lists, but the keys of the dictionary consisted of the names of each house."
   ]
  },
  {
   "cell_type": "code",
   "execution_count": 12,
   "metadata": {},
   "outputs": [
    {
     "data": {
      "text/html": [
       "<div>\n",
       "<style scoped>\n",
       "    .dataframe tbody tr th:only-of-type {\n",
       "        vertical-align: middle;\n",
       "    }\n",
       "\n",
       "    .dataframe tbody tr th {\n",
       "        vertical-align: top;\n",
       "    }\n",
       "\n",
       "    .dataframe thead th {\n",
       "        text-align: right;\n",
       "    }\n",
       "</style>\n",
       "<table border=\"1\" class=\"dataframe\">\n",
       "  <thead>\n",
       "    <tr style=\"text-align: right;\">\n",
       "      <th></th>\n",
       "      <th>Baker House</th>\n",
       "      <th>Beazley House</th>\n",
       "      <th>Dominguez House</th>\n",
       "      <th>Hamilton House</th>\n",
       "      <th>James House</th>\n",
       "      <th>Martinez House</th>\n",
       "      <th>Roberts House</th>\n",
       "      <th>Smith House</th>\n",
       "      <th>Snyder House</th>\n",
       "      <th>Zuckerman House</th>\n",
       "    </tr>\n",
       "  </thead>\n",
       "  <tbody>\n",
       "    <tr>\n",
       "      <td>0</td>\n",
       "      <td>7420</td>\n",
       "      <td>14115</td>\n",
       "      <td>14260</td>\n",
       "      <td>6120</td>\n",
       "      <td>11250</td>\n",
       "      <td>9600</td>\n",
       "      <td>9550</td>\n",
       "      <td>8450</td>\n",
       "      <td>10084</td>\n",
       "      <td>10382</td>\n",
       "    </tr>\n",
       "    <tr>\n",
       "      <td>1</td>\n",
       "      <td>BrkSide</td>\n",
       "      <td>Mitchel</td>\n",
       "      <td>Mitchel</td>\n",
       "      <td>BrkSide</td>\n",
       "      <td>Nottinhill</td>\n",
       "      <td>BrkSide</td>\n",
       "      <td>Crawfor</td>\n",
       "      <td>CollgCr</td>\n",
       "      <td>BrkSide</td>\n",
       "      <td>Mitchel</td>\n",
       "    </tr>\n",
       "    <tr>\n",
       "      <td>2</td>\n",
       "      <td>1939</td>\n",
       "      <td>1993</td>\n",
       "      <td>2000</td>\n",
       "      <td>1931</td>\n",
       "      <td>2001</td>\n",
       "      <td>1976</td>\n",
       "      <td>1915</td>\n",
       "      <td>2003</td>\n",
       "      <td>2004</td>\n",
       "      <td>1973</td>\n",
       "    </tr>\n",
       "    <tr>\n",
       "      <td>3</td>\n",
       "      <td>5</td>\n",
       "      <td>5</td>\n",
       "      <td>8</td>\n",
       "      <td>7</td>\n",
       "      <td>7</td>\n",
       "      <td>6</td>\n",
       "      <td>7</td>\n",
       "      <td>7</td>\n",
       "      <td>8</td>\n",
       "      <td>7</td>\n",
       "    </tr>\n",
       "    <tr>\n",
       "      <td>4</td>\n",
       "      <td>118000</td>\n",
       "      <td>143000</td>\n",
       "      <td>250000</td>\n",
       "      <td>129900</td>\n",
       "      <td>223500</td>\n",
       "      <td>181500</td>\n",
       "      <td>140000</td>\n",
       "      <td>208500</td>\n",
       "      <td>307000</td>\n",
       "      <td>200000</td>\n",
       "    </tr>\n",
       "  </tbody>\n",
       "</table>\n",
       "</div>"
      ],
      "text/plain": [
       "  Baker House Beazley House Dominguez House Hamilton House James House  \\\n",
       "0        7420         14115           14260           6120       11250   \n",
       "1     BrkSide       Mitchel         Mitchel        BrkSide  Nottinhill   \n",
       "2        1939          1993            2000           1931        2001   \n",
       "3           5             5               8              7           7   \n",
       "4      118000        143000          250000         129900      223500   \n",
       "\n",
       "  Martinez House Roberts House Smith House Snyder House Zuckerman House  \n",
       "0           9600          9550        8450        10084           10382  \n",
       "1        BrkSide       Crawfor     CollgCr      BrkSide         Mitchel  \n",
       "2           1976          1915        2003         2004            1973  \n",
       "3              6             7           7            8               7  \n",
       "4         181500        140000      208500       307000          200000  "
      ]
     },
     "execution_count": 12,
     "metadata": {},
     "output_type": "execute_result"
    }
   ],
   "source": [
    "house_dict = {'Baker House': [7420, 'BrkSide', 1939, 5, 118000],\n",
    "              'Beazley House': [14115, 'Mitchel', 1993, 5, 143000],\n",
    "              'Dominguez House': [14260, 'Mitchel', 2000, 8, 250000],\n",
    "              'Hamilton House': [6120, 'BrkSide', 1931, 7, 129900],\n",
    "              'James House': [11250, 'Nottinhill', 2001, 7, 223500],\n",
    "              'Martinez House': [9600, 'BrkSide', 1976, 6, 181500],\n",
    "              'Roberts House': [9550, 'Crawfor', 1915, 7, 140000],\n",
    "              'Smith House': [8450, 'CollgCr', 2003, 7, 208500],\n",
    "              'Snyder House': [10084, 'BrkSide', 2004, 8, 307000],\n",
    "              'Zuckerman House': [10382, 'Mitchel', 1973, 7, 200000]}\n",
    "\n",
    "house_df = pd.DataFrame(house_dict)\n",
    "\n",
    "house_df"
   ]
  },
  {
   "cell_type": "markdown",
   "metadata": {},
   "source": [
    "This is not the format we want for our data. Instead, we want each house represented as a row and the attributes of the houses represented as columns. There are (at least) two ways to transform the data frame to the format we want. Both methods below will return the same result - a data frame with houses as rows and house attributes as columns."
   ]
  },
  {
   "cell_type": "code",
   "execution_count": 13,
   "metadata": {},
   "outputs": [
    {
     "data": {
      "text/html": [
       "<div>\n",
       "<style scoped>\n",
       "    .dataframe tbody tr th:only-of-type {\n",
       "        vertical-align: middle;\n",
       "    }\n",
       "\n",
       "    .dataframe tbody tr th {\n",
       "        vertical-align: top;\n",
       "    }\n",
       "\n",
       "    .dataframe thead th {\n",
       "        text-align: right;\n",
       "    }\n",
       "</style>\n",
       "<table border=\"1\" class=\"dataframe\">\n",
       "  <thead>\n",
       "    <tr style=\"text-align: right;\">\n",
       "      <th></th>\n",
       "      <th>LotSize</th>\n",
       "      <th>Neighborhood</th>\n",
       "      <th>YearBuilt</th>\n",
       "      <th>Quality</th>\n",
       "      <th>SalePrice</th>\n",
       "    </tr>\n",
       "  </thead>\n",
       "  <tbody>\n",
       "    <tr>\n",
       "      <td>Baker House</td>\n",
       "      <td>7420</td>\n",
       "      <td>BrkSide</td>\n",
       "      <td>1939</td>\n",
       "      <td>5</td>\n",
       "      <td>118000</td>\n",
       "    </tr>\n",
       "    <tr>\n",
       "      <td>Beazley House</td>\n",
       "      <td>14115</td>\n",
       "      <td>Mitchel</td>\n",
       "      <td>1993</td>\n",
       "      <td>5</td>\n",
       "      <td>143000</td>\n",
       "    </tr>\n",
       "    <tr>\n",
       "      <td>Dominguez House</td>\n",
       "      <td>14260</td>\n",
       "      <td>Mitchel</td>\n",
       "      <td>2000</td>\n",
       "      <td>8</td>\n",
       "      <td>250000</td>\n",
       "    </tr>\n",
       "    <tr>\n",
       "      <td>Hamilton House</td>\n",
       "      <td>6120</td>\n",
       "      <td>BrkSide</td>\n",
       "      <td>1931</td>\n",
       "      <td>7</td>\n",
       "      <td>129900</td>\n",
       "    </tr>\n",
       "    <tr>\n",
       "      <td>James House</td>\n",
       "      <td>11250</td>\n",
       "      <td>Nottinhill</td>\n",
       "      <td>2001</td>\n",
       "      <td>7</td>\n",
       "      <td>223500</td>\n",
       "    </tr>\n",
       "    <tr>\n",
       "      <td>Martinez House</td>\n",
       "      <td>9600</td>\n",
       "      <td>BrkSide</td>\n",
       "      <td>1976</td>\n",
       "      <td>6</td>\n",
       "      <td>181500</td>\n",
       "    </tr>\n",
       "    <tr>\n",
       "      <td>Roberts House</td>\n",
       "      <td>9550</td>\n",
       "      <td>Crawfor</td>\n",
       "      <td>1915</td>\n",
       "      <td>7</td>\n",
       "      <td>140000</td>\n",
       "    </tr>\n",
       "    <tr>\n",
       "      <td>Smith House</td>\n",
       "      <td>8450</td>\n",
       "      <td>CollgCr</td>\n",
       "      <td>2003</td>\n",
       "      <td>7</td>\n",
       "      <td>208500</td>\n",
       "    </tr>\n",
       "    <tr>\n",
       "      <td>Snyder House</td>\n",
       "      <td>10084</td>\n",
       "      <td>BrkSide</td>\n",
       "      <td>2004</td>\n",
       "      <td>8</td>\n",
       "      <td>307000</td>\n",
       "    </tr>\n",
       "    <tr>\n",
       "      <td>Zuckerman House</td>\n",
       "      <td>10382</td>\n",
       "      <td>Mitchel</td>\n",
       "      <td>1973</td>\n",
       "      <td>7</td>\n",
       "      <td>200000</td>\n",
       "    </tr>\n",
       "  </tbody>\n",
       "</table>\n",
       "</div>"
      ],
      "text/plain": [
       "                LotSize Neighborhood YearBuilt Quality SalePrice\n",
       "Baker House        7420      BrkSide      1939       5    118000\n",
       "Beazley House     14115      Mitchel      1993       5    143000\n",
       "Dominguez House   14260      Mitchel      2000       8    250000\n",
       "Hamilton House     6120      BrkSide      1931       7    129900\n",
       "James House       11250   Nottinhill      2001       7    223500\n",
       "Martinez House     9600      BrkSide      1976       6    181500\n",
       "Roberts House      9550      Crawfor      1915       7    140000\n",
       "Smith House        8450      CollgCr      2003       7    208500\n",
       "Snyder House      10084      BrkSide      2004       8    307000\n",
       "Zuckerman House   10382      Mitchel      1973       7    200000"
      ]
     },
     "execution_count": 13,
     "metadata": {},
     "output_type": "execute_result"
    }
   ],
   "source": [
    "# You can transpose the result and adjust the column names.\n",
    "house_df = pd.DataFrame(house_dict).transpose()\n",
    "house_df.columns = colnames\n",
    "\n",
    "house_df"
   ]
  },
  {
   "cell_type": "code",
   "execution_count": 14,
   "metadata": {},
   "outputs": [
    {
     "data": {
      "text/html": [
       "<div>\n",
       "<style scoped>\n",
       "    .dataframe tbody tr th:only-of-type {\n",
       "        vertical-align: middle;\n",
       "    }\n",
       "\n",
       "    .dataframe tbody tr th {\n",
       "        vertical-align: top;\n",
       "    }\n",
       "\n",
       "    .dataframe thead th {\n",
       "        text-align: right;\n",
       "    }\n",
       "</style>\n",
       "<table border=\"1\" class=\"dataframe\">\n",
       "  <thead>\n",
       "    <tr style=\"text-align: right;\">\n",
       "      <th></th>\n",
       "      <th>LotSize</th>\n",
       "      <th>Neighborhood</th>\n",
       "      <th>YearBuilt</th>\n",
       "      <th>Quality</th>\n",
       "      <th>SalePrice</th>\n",
       "    </tr>\n",
       "  </thead>\n",
       "  <tbody>\n",
       "    <tr>\n",
       "      <td>Baker House</td>\n",
       "      <td>7420</td>\n",
       "      <td>BrkSide</td>\n",
       "      <td>1939</td>\n",
       "      <td>5</td>\n",
       "      <td>118000</td>\n",
       "    </tr>\n",
       "    <tr>\n",
       "      <td>Beazley House</td>\n",
       "      <td>14115</td>\n",
       "      <td>Mitchel</td>\n",
       "      <td>1993</td>\n",
       "      <td>5</td>\n",
       "      <td>143000</td>\n",
       "    </tr>\n",
       "    <tr>\n",
       "      <td>Dominguez House</td>\n",
       "      <td>14260</td>\n",
       "      <td>Mitchel</td>\n",
       "      <td>2000</td>\n",
       "      <td>8</td>\n",
       "      <td>250000</td>\n",
       "    </tr>\n",
       "    <tr>\n",
       "      <td>Hamilton House</td>\n",
       "      <td>6120</td>\n",
       "      <td>BrkSide</td>\n",
       "      <td>1931</td>\n",
       "      <td>7</td>\n",
       "      <td>129900</td>\n",
       "    </tr>\n",
       "    <tr>\n",
       "      <td>James House</td>\n",
       "      <td>11250</td>\n",
       "      <td>Nottinhill</td>\n",
       "      <td>2001</td>\n",
       "      <td>7</td>\n",
       "      <td>223500</td>\n",
       "    </tr>\n",
       "    <tr>\n",
       "      <td>Martinez House</td>\n",
       "      <td>9600</td>\n",
       "      <td>BrkSide</td>\n",
       "      <td>1976</td>\n",
       "      <td>6</td>\n",
       "      <td>181500</td>\n",
       "    </tr>\n",
       "    <tr>\n",
       "      <td>Roberts House</td>\n",
       "      <td>9550</td>\n",
       "      <td>Crawfor</td>\n",
       "      <td>1915</td>\n",
       "      <td>7</td>\n",
       "      <td>140000</td>\n",
       "    </tr>\n",
       "    <tr>\n",
       "      <td>Smith House</td>\n",
       "      <td>8450</td>\n",
       "      <td>CollgCr</td>\n",
       "      <td>2003</td>\n",
       "      <td>7</td>\n",
       "      <td>208500</td>\n",
       "    </tr>\n",
       "    <tr>\n",
       "      <td>Snyder House</td>\n",
       "      <td>10084</td>\n",
       "      <td>BrkSide</td>\n",
       "      <td>2004</td>\n",
       "      <td>8</td>\n",
       "      <td>307000</td>\n",
       "    </tr>\n",
       "    <tr>\n",
       "      <td>Zuckerman House</td>\n",
       "      <td>10382</td>\n",
       "      <td>Mitchel</td>\n",
       "      <td>1973</td>\n",
       "      <td>7</td>\n",
       "      <td>200000</td>\n",
       "    </tr>\n",
       "  </tbody>\n",
       "</table>\n",
       "</div>"
      ],
      "text/plain": [
       "                 LotSize Neighborhood  YearBuilt  Quality  SalePrice\n",
       "Baker House         7420      BrkSide       1939        5     118000\n",
       "Beazley House      14115      Mitchel       1993        5     143000\n",
       "Dominguez House    14260      Mitchel       2000        8     250000\n",
       "Hamilton House      6120      BrkSide       1931        7     129900\n",
       "James House        11250   Nottinhill       2001        7     223500\n",
       "Martinez House      9600      BrkSide       1976        6     181500\n",
       "Roberts House       9550      Crawfor       1915        7     140000\n",
       "Smith House         8450      CollgCr       2003        7     208500\n",
       "Snyder House       10084      BrkSide       2004        8     307000\n",
       "Zuckerman House    10382      Mitchel       1973        7     200000"
      ]
     },
     "execution_count": 14,
     "metadata": {},
     "output_type": "execute_result"
    }
   ],
   "source": [
    "# Or you can add the from_dict method and specify 'index' for the orient parameter, and then adjust your column names.\n",
    "house_df = pd.DataFrame.from_dict(house_dict, orient='index')\n",
    "house_df.columns = colnames\n",
    "\n",
    "house_df"
   ]
  },
  {
   "cell_type": "markdown",
   "metadata": {},
   "source": [
    "### Anális exploratorio de los datos"
   ]
  },
  {
   "cell_type": "code",
   "execution_count": 15,
   "metadata": {},
   "outputs": [
    {
     "data": {
      "text/plain": [
       "(10, 5)"
      ]
     },
     "execution_count": 15,
     "metadata": {},
     "output_type": "execute_result"
    }
   ],
   "source": [
    "# dimensiones del dataset\n",
    "\n",
    "house_df.shape"
   ]
  },
  {
   "cell_type": "code",
   "execution_count": 16,
   "metadata": {},
   "outputs": [
    {
     "data": {
      "text/html": [
       "<div>\n",
       "<style scoped>\n",
       "    .dataframe tbody tr th:only-of-type {\n",
       "        vertical-align: middle;\n",
       "    }\n",
       "\n",
       "    .dataframe tbody tr th {\n",
       "        vertical-align: top;\n",
       "    }\n",
       "\n",
       "    .dataframe thead th {\n",
       "        text-align: right;\n",
       "    }\n",
       "</style>\n",
       "<table border=\"1\" class=\"dataframe\">\n",
       "  <thead>\n",
       "    <tr style=\"text-align: right;\">\n",
       "      <th></th>\n",
       "      <th>LotSize</th>\n",
       "      <th>YearBuilt</th>\n",
       "      <th>Quality</th>\n",
       "      <th>SalePrice</th>\n",
       "    </tr>\n",
       "  </thead>\n",
       "  <tbody>\n",
       "    <tr>\n",
       "      <td>count</td>\n",
       "      <td>10.000000</td>\n",
       "      <td>10.000000</td>\n",
       "      <td>10.00000</td>\n",
       "      <td>10.000000</td>\n",
       "    </tr>\n",
       "    <tr>\n",
       "      <td>mean</td>\n",
       "      <td>10123.100000</td>\n",
       "      <td>1973.500000</td>\n",
       "      <td>6.70000</td>\n",
       "      <td>190140.000000</td>\n",
       "    </tr>\n",
       "    <tr>\n",
       "      <td>std</td>\n",
       "      <td>2605.988166</td>\n",
       "      <td>33.440661</td>\n",
       "      <td>1.05935</td>\n",
       "      <td>60028.293329</td>\n",
       "    </tr>\n",
       "    <tr>\n",
       "      <td>min</td>\n",
       "      <td>6120.000000</td>\n",
       "      <td>1915.000000</td>\n",
       "      <td>5.00000</td>\n",
       "      <td>118000.000000</td>\n",
       "    </tr>\n",
       "    <tr>\n",
       "      <td>25%</td>\n",
       "      <td>8725.000000</td>\n",
       "      <td>1947.500000</td>\n",
       "      <td>6.25000</td>\n",
       "      <td>140750.000000</td>\n",
       "    </tr>\n",
       "    <tr>\n",
       "      <td>50%</td>\n",
       "      <td>9842.000000</td>\n",
       "      <td>1984.500000</td>\n",
       "      <td>7.00000</td>\n",
       "      <td>190750.000000</td>\n",
       "    </tr>\n",
       "    <tr>\n",
       "      <td>75%</td>\n",
       "      <td>11033.000000</td>\n",
       "      <td>2000.750000</td>\n",
       "      <td>7.00000</td>\n",
       "      <td>219750.000000</td>\n",
       "    </tr>\n",
       "    <tr>\n",
       "      <td>max</td>\n",
       "      <td>14260.000000</td>\n",
       "      <td>2004.000000</td>\n",
       "      <td>8.00000</td>\n",
       "      <td>307000.000000</td>\n",
       "    </tr>\n",
       "  </tbody>\n",
       "</table>\n",
       "</div>"
      ],
      "text/plain": [
       "            LotSize    YearBuilt   Quality      SalePrice\n",
       "count     10.000000    10.000000  10.00000      10.000000\n",
       "mean   10123.100000  1973.500000   6.70000  190140.000000\n",
       "std     2605.988166    33.440661   1.05935   60028.293329\n",
       "min     6120.000000  1915.000000   5.00000  118000.000000\n",
       "25%     8725.000000  1947.500000   6.25000  140750.000000\n",
       "50%     9842.000000  1984.500000   7.00000  190750.000000\n",
       "75%    11033.000000  2000.750000   7.00000  219750.000000\n",
       "max    14260.000000  2004.000000   8.00000  307000.000000"
      ]
     },
     "execution_count": 16,
     "metadata": {},
     "output_type": "execute_result"
    }
   ],
   "source": [
    "# medidas estadísticas \n",
    "\n",
    "house_df.describe()"
   ]
  },
  {
   "cell_type": "code",
   "execution_count": 17,
   "metadata": {},
   "outputs": [
    {
     "data": {
      "text/plain": [
       "LotSize           10382\n",
       "Neighborhood    Mitchel\n",
       "YearBuilt          1973\n",
       "Quality               7\n",
       "SalePrice        200000\n",
       "Name: Zuckerman House, dtype: object"
      ]
     },
     "execution_count": 17,
     "metadata": {},
     "output_type": "execute_result"
    }
   ],
   "source": [
    "# datos de \"Zuckerman House\". Como en numpy\n",
    "\n",
    "house_df.loc['Zuckerman House', :]"
   ]
  },
  {
   "cell_type": "code",
   "execution_count": 18,
   "metadata": {},
   "outputs": [
    {
     "data": {
      "text/plain": [
       "307000"
      ]
     },
     "execution_count": 18,
     "metadata": {},
     "output_type": "execute_result"
    }
   ],
   "source": [
    "# Mayor precio de venta\n",
    "\n",
    "maximo_precio = house_df['SalePrice'].max()\n",
    "maximo_precio"
   ]
  },
  {
   "cell_type": "code",
   "execution_count": 19,
   "metadata": {},
   "outputs": [
    {
     "data": {
      "text/html": [
       "<div>\n",
       "<style scoped>\n",
       "    .dataframe tbody tr th:only-of-type {\n",
       "        vertical-align: middle;\n",
       "    }\n",
       "\n",
       "    .dataframe tbody tr th {\n",
       "        vertical-align: top;\n",
       "    }\n",
       "\n",
       "    .dataframe thead th {\n",
       "        text-align: right;\n",
       "    }\n",
       "</style>\n",
       "<table border=\"1\" class=\"dataframe\">\n",
       "  <thead>\n",
       "    <tr style=\"text-align: right;\">\n",
       "      <th></th>\n",
       "      <th>LotSize</th>\n",
       "      <th>Neighborhood</th>\n",
       "      <th>YearBuilt</th>\n",
       "      <th>Quality</th>\n",
       "      <th>SalePrice</th>\n",
       "    </tr>\n",
       "  </thead>\n",
       "  <tbody>\n",
       "    <tr>\n",
       "      <td>Snyder House</td>\n",
       "      <td>10084</td>\n",
       "      <td>BrkSide</td>\n",
       "      <td>2004</td>\n",
       "      <td>8</td>\n",
       "      <td>307000</td>\n",
       "    </tr>\n",
       "  </tbody>\n",
       "</table>\n",
       "</div>"
      ],
      "text/plain": [
       "              LotSize Neighborhood  YearBuilt  Quality  SalePrice\n",
       "Snyder House    10084      BrkSide       2004        8     307000"
      ]
     },
     "execution_count": 19,
     "metadata": {},
     "output_type": "execute_result"
    }
   ],
   "source": [
    "# La casa con más precio de venta\n",
    "\n",
    "house_df[house_df['SalePrice'] == maximo_precio]"
   ]
  },
  {
   "cell_type": "markdown",
   "metadata": {},
   "source": [
    "## Applying Mathematical Functions to Data Frames\n",
    "\n",
    "Like Numpy, Pandas also has some built-in mathematical functions that you can apply to series and data frames. Let’s take a look at some of the basic ones."
   ]
  },
  {
   "cell_type": "code",
   "execution_count": 20,
   "metadata": {},
   "outputs": [
    {
     "data": {
      "text/plain": [
       "1901400"
      ]
     },
     "execution_count": 20,
     "metadata": {},
     "output_type": "execute_result"
    }
   ],
   "source": [
    "# Total price of all houses sold\n",
    "house_df['SalePrice'].sum()"
   ]
  },
  {
   "cell_type": "code",
   "execution_count": 21,
   "metadata": {},
   "outputs": [
    {
     "data": {
      "text/plain": [
       "10123.1"
      ]
     },
     "execution_count": 21,
     "metadata": {},
     "output_type": "execute_result"
    }
   ],
   "source": [
    "# Average lot size of houses sold\n",
    "house_df['LotSize'].mean()"
   ]
  },
  {
   "cell_type": "code",
   "execution_count": 22,
   "metadata": {},
   "outputs": [
    {
     "data": {
      "text/plain": [
       "2004"
      ]
     },
     "execution_count": 22,
     "metadata": {},
     "output_type": "execute_result"
    }
   ],
   "source": [
    "# The latest year a house in the data set was built\n",
    "house_df['YearBuilt'].max()"
   ]
  },
  {
   "cell_type": "code",
   "execution_count": 23,
   "metadata": {},
   "outputs": [
    {
     "data": {
      "text/plain": [
       "1915"
      ]
     },
     "execution_count": 23,
     "metadata": {},
     "output_type": "execute_result"
    }
   ],
   "source": [
    "# The eariliest year a house in the data set was built\n",
    "house_df['YearBuilt'].min()"
   ]
  },
  {
   "cell_type": "markdown",
   "metadata": {},
   "source": [
    "## Aggregations"
   ]
  },
  {
   "cell_type": "code",
   "execution_count": 24,
   "metadata": {},
   "outputs": [
    {
     "data": {
      "text/html": [
       "<div>\n",
       "<style scoped>\n",
       "    .dataframe tbody tr th:only-of-type {\n",
       "        vertical-align: middle;\n",
       "    }\n",
       "\n",
       "    .dataframe tbody tr th {\n",
       "        vertical-align: top;\n",
       "    }\n",
       "\n",
       "    .dataframe thead th {\n",
       "        text-align: right;\n",
       "    }\n",
       "</style>\n",
       "<table border=\"1\" class=\"dataframe\">\n",
       "  <thead>\n",
       "    <tr style=\"text-align: right;\">\n",
       "      <th></th>\n",
       "      <th>LotSize</th>\n",
       "      <th>Neighborhood</th>\n",
       "      <th>YearBuilt</th>\n",
       "      <th>Quality</th>\n",
       "      <th>SalePrice</th>\n",
       "    </tr>\n",
       "  </thead>\n",
       "  <tbody>\n",
       "    <tr>\n",
       "      <td>Baker House</td>\n",
       "      <td>7420</td>\n",
       "      <td>BrkSide</td>\n",
       "      <td>1939</td>\n",
       "      <td>5</td>\n",
       "      <td>118000</td>\n",
       "    </tr>\n",
       "    <tr>\n",
       "      <td>Beazley House</td>\n",
       "      <td>14115</td>\n",
       "      <td>Mitchel</td>\n",
       "      <td>1993</td>\n",
       "      <td>5</td>\n",
       "      <td>143000</td>\n",
       "    </tr>\n",
       "    <tr>\n",
       "      <td>Dominguez House</td>\n",
       "      <td>14260</td>\n",
       "      <td>Mitchel</td>\n",
       "      <td>2000</td>\n",
       "      <td>8</td>\n",
       "      <td>250000</td>\n",
       "    </tr>\n",
       "    <tr>\n",
       "      <td>Hamilton House</td>\n",
       "      <td>6120</td>\n",
       "      <td>BrkSide</td>\n",
       "      <td>1931</td>\n",
       "      <td>7</td>\n",
       "      <td>129900</td>\n",
       "    </tr>\n",
       "    <tr>\n",
       "      <td>James House</td>\n",
       "      <td>11250</td>\n",
       "      <td>Nottinhill</td>\n",
       "      <td>2001</td>\n",
       "      <td>7</td>\n",
       "      <td>223500</td>\n",
       "    </tr>\n",
       "    <tr>\n",
       "      <td>Martinez House</td>\n",
       "      <td>9600</td>\n",
       "      <td>BrkSide</td>\n",
       "      <td>1976</td>\n",
       "      <td>6</td>\n",
       "      <td>181500</td>\n",
       "    </tr>\n",
       "    <tr>\n",
       "      <td>Roberts House</td>\n",
       "      <td>9550</td>\n",
       "      <td>Crawfor</td>\n",
       "      <td>1915</td>\n",
       "      <td>7</td>\n",
       "      <td>140000</td>\n",
       "    </tr>\n",
       "    <tr>\n",
       "      <td>Smith House</td>\n",
       "      <td>8450</td>\n",
       "      <td>CollgCr</td>\n",
       "      <td>2003</td>\n",
       "      <td>7</td>\n",
       "      <td>208500</td>\n",
       "    </tr>\n",
       "    <tr>\n",
       "      <td>Snyder House</td>\n",
       "      <td>10084</td>\n",
       "      <td>BrkSide</td>\n",
       "      <td>2004</td>\n",
       "      <td>8</td>\n",
       "      <td>307000</td>\n",
       "    </tr>\n",
       "    <tr>\n",
       "      <td>Zuckerman House</td>\n",
       "      <td>10382</td>\n",
       "      <td>Mitchel</td>\n",
       "      <td>1973</td>\n",
       "      <td>7</td>\n",
       "      <td>200000</td>\n",
       "    </tr>\n",
       "  </tbody>\n",
       "</table>\n",
       "</div>"
      ],
      "text/plain": [
       "                 LotSize Neighborhood  YearBuilt  Quality  SalePrice\n",
       "Baker House         7420      BrkSide       1939        5     118000\n",
       "Beazley House      14115      Mitchel       1993        5     143000\n",
       "Dominguez House    14260      Mitchel       2000        8     250000\n",
       "Hamilton House      6120      BrkSide       1931        7     129900\n",
       "James House        11250   Nottinhill       2001        7     223500\n",
       "Martinez House      9600      BrkSide       1976        6     181500\n",
       "Roberts House       9550      Crawfor       1915        7     140000\n",
       "Smith House         8450      CollgCr       2003        7     208500\n",
       "Snyder House       10084      BrkSide       2004        8     307000\n",
       "Zuckerman House    10382      Mitchel       1973        7     200000"
      ]
     },
     "execution_count": 24,
     "metadata": {},
     "output_type": "execute_result"
    }
   ],
   "source": [
    "house_df"
   ]
  },
  {
   "cell_type": "code",
   "execution_count": 25,
   "metadata": {},
   "outputs": [
    {
     "data": {
      "text/plain": [
       "BrkSide       4\n",
       "Mitchel       3\n",
       "Nottinhill    1\n",
       "Crawfor       1\n",
       "CollgCr       1\n",
       "Name: Neighborhood, dtype: int64"
      ]
     },
     "execution_count": 25,
     "metadata": {},
     "output_type": "execute_result"
    }
   ],
   "source": [
    "house_df['Neighborhood'].value_counts()"
   ]
  },
  {
   "cell_type": "code",
   "execution_count": 26,
   "metadata": {},
   "outputs": [
    {
     "data": {
      "text/html": [
       "<div>\n",
       "<style scoped>\n",
       "    .dataframe tbody tr th:only-of-type {\n",
       "        vertical-align: middle;\n",
       "    }\n",
       "\n",
       "    .dataframe tbody tr th {\n",
       "        vertical-align: top;\n",
       "    }\n",
       "\n",
       "    .dataframe thead th {\n",
       "        text-align: right;\n",
       "    }\n",
       "</style>\n",
       "<table border=\"1\" class=\"dataframe\">\n",
       "  <thead>\n",
       "    <tr style=\"text-align: right;\">\n",
       "      <th></th>\n",
       "      <th>LotSize</th>\n",
       "      <th>YearBuilt</th>\n",
       "      <th>Quality</th>\n",
       "      <th>SalePrice</th>\n",
       "    </tr>\n",
       "    <tr>\n",
       "      <th>Neighborhood</th>\n",
       "      <th></th>\n",
       "      <th></th>\n",
       "      <th></th>\n",
       "      <th></th>\n",
       "    </tr>\n",
       "  </thead>\n",
       "  <tbody>\n",
       "    <tr>\n",
       "      <td>BrkSide</td>\n",
       "      <td>4</td>\n",
       "      <td>4</td>\n",
       "      <td>4</td>\n",
       "      <td>4</td>\n",
       "    </tr>\n",
       "    <tr>\n",
       "      <td>CollgCr</td>\n",
       "      <td>1</td>\n",
       "      <td>1</td>\n",
       "      <td>1</td>\n",
       "      <td>1</td>\n",
       "    </tr>\n",
       "    <tr>\n",
       "      <td>Crawfor</td>\n",
       "      <td>1</td>\n",
       "      <td>1</td>\n",
       "      <td>1</td>\n",
       "      <td>1</td>\n",
       "    </tr>\n",
       "    <tr>\n",
       "      <td>Mitchel</td>\n",
       "      <td>3</td>\n",
       "      <td>3</td>\n",
       "      <td>3</td>\n",
       "      <td>3</td>\n",
       "    </tr>\n",
       "    <tr>\n",
       "      <td>Nottinhill</td>\n",
       "      <td>1</td>\n",
       "      <td>1</td>\n",
       "      <td>1</td>\n",
       "      <td>1</td>\n",
       "    </tr>\n",
       "  </tbody>\n",
       "</table>\n",
       "</div>"
      ],
      "text/plain": [
       "              LotSize  YearBuilt  Quality  SalePrice\n",
       "Neighborhood                                        \n",
       "BrkSide             4          4        4          4\n",
       "CollgCr             1          1        1          1\n",
       "Crawfor             1          1        1          1\n",
       "Mitchel             3          3        3          3\n",
       "Nottinhill          1          1        1          1"
      ]
     },
     "execution_count": 26,
     "metadata": {},
     "output_type": "execute_result"
    }
   ],
   "source": [
    "house_df.groupby('Neighborhood').count()"
   ]
  },
  {
   "cell_type": "code",
   "execution_count": 27,
   "metadata": {},
   "outputs": [
    {
     "data": {
      "text/html": [
       "<div>\n",
       "<style scoped>\n",
       "    .dataframe tbody tr th:only-of-type {\n",
       "        vertical-align: middle;\n",
       "    }\n",
       "\n",
       "    .dataframe tbody tr th {\n",
       "        vertical-align: top;\n",
       "    }\n",
       "\n",
       "    .dataframe thead th {\n",
       "        text-align: right;\n",
       "    }\n",
       "</style>\n",
       "<table border=\"1\" class=\"dataframe\">\n",
       "  <thead>\n",
       "    <tr style=\"text-align: right;\">\n",
       "      <th></th>\n",
       "      <th>LotSize</th>\n",
       "      <th>YearBuilt</th>\n",
       "      <th>Quality</th>\n",
       "      <th>SalePrice</th>\n",
       "    </tr>\n",
       "    <tr>\n",
       "      <th>Neighborhood</th>\n",
       "      <th></th>\n",
       "      <th></th>\n",
       "      <th></th>\n",
       "      <th></th>\n",
       "    </tr>\n",
       "  </thead>\n",
       "  <tbody>\n",
       "    <tr>\n",
       "      <td>BrkSide</td>\n",
       "      <td>8306.0</td>\n",
       "      <td>1962.500000</td>\n",
       "      <td>6.500000</td>\n",
       "      <td>184100.000000</td>\n",
       "    </tr>\n",
       "    <tr>\n",
       "      <td>CollgCr</td>\n",
       "      <td>8450.0</td>\n",
       "      <td>2003.000000</td>\n",
       "      <td>7.000000</td>\n",
       "      <td>208500.000000</td>\n",
       "    </tr>\n",
       "    <tr>\n",
       "      <td>Crawfor</td>\n",
       "      <td>9550.0</td>\n",
       "      <td>1915.000000</td>\n",
       "      <td>7.000000</td>\n",
       "      <td>140000.000000</td>\n",
       "    </tr>\n",
       "    <tr>\n",
       "      <td>Mitchel</td>\n",
       "      <td>12919.0</td>\n",
       "      <td>1988.666667</td>\n",
       "      <td>6.666667</td>\n",
       "      <td>197666.666667</td>\n",
       "    </tr>\n",
       "    <tr>\n",
       "      <td>Nottinhill</td>\n",
       "      <td>11250.0</td>\n",
       "      <td>2001.000000</td>\n",
       "      <td>7.000000</td>\n",
       "      <td>223500.000000</td>\n",
       "    </tr>\n",
       "  </tbody>\n",
       "</table>\n",
       "</div>"
      ],
      "text/plain": [
       "              LotSize    YearBuilt   Quality      SalePrice\n",
       "Neighborhood                                               \n",
       "BrkSide        8306.0  1962.500000  6.500000  184100.000000\n",
       "CollgCr        8450.0  2003.000000  7.000000  208500.000000\n",
       "Crawfor        9550.0  1915.000000  7.000000  140000.000000\n",
       "Mitchel       12919.0  1988.666667  6.666667  197666.666667\n",
       "Nottinhill    11250.0  2001.000000  7.000000  223500.000000"
      ]
     },
     "execution_count": 27,
     "metadata": {},
     "output_type": "execute_result"
    }
   ],
   "source": [
    "house_df.groupby('Neighborhood').mean()"
   ]
  },
  {
   "cell_type": "code",
   "execution_count": 28,
   "metadata": {},
   "outputs": [
    {
     "data": {
      "text/html": [
       "<div>\n",
       "<style scoped>\n",
       "    .dataframe tbody tr th:only-of-type {\n",
       "        vertical-align: middle;\n",
       "    }\n",
       "\n",
       "    .dataframe tbody tr th {\n",
       "        vertical-align: top;\n",
       "    }\n",
       "\n",
       "    .dataframe thead th {\n",
       "        text-align: right;\n",
       "    }\n",
       "</style>\n",
       "<table border=\"1\" class=\"dataframe\">\n",
       "  <thead>\n",
       "    <tr style=\"text-align: right;\">\n",
       "      <th></th>\n",
       "      <th></th>\n",
       "      <th>LotSize</th>\n",
       "      <th>YearBuilt</th>\n",
       "      <th>SalePrice</th>\n",
       "    </tr>\n",
       "    <tr>\n",
       "      <th>Neighborhood</th>\n",
       "      <th>Quality</th>\n",
       "      <th></th>\n",
       "      <th></th>\n",
       "      <th></th>\n",
       "    </tr>\n",
       "  </thead>\n",
       "  <tbody>\n",
       "    <tr>\n",
       "      <td rowspan=\"4\" valign=\"top\">BrkSide</td>\n",
       "      <td>5</td>\n",
       "      <td>7420</td>\n",
       "      <td>1939</td>\n",
       "      <td>118000</td>\n",
       "    </tr>\n",
       "    <tr>\n",
       "      <td>6</td>\n",
       "      <td>9600</td>\n",
       "      <td>1976</td>\n",
       "      <td>181500</td>\n",
       "    </tr>\n",
       "    <tr>\n",
       "      <td>7</td>\n",
       "      <td>6120</td>\n",
       "      <td>1931</td>\n",
       "      <td>129900</td>\n",
       "    </tr>\n",
       "    <tr>\n",
       "      <td>8</td>\n",
       "      <td>10084</td>\n",
       "      <td>2004</td>\n",
       "      <td>307000</td>\n",
       "    </tr>\n",
       "    <tr>\n",
       "      <td>CollgCr</td>\n",
       "      <td>7</td>\n",
       "      <td>8450</td>\n",
       "      <td>2003</td>\n",
       "      <td>208500</td>\n",
       "    </tr>\n",
       "    <tr>\n",
       "      <td>Crawfor</td>\n",
       "      <td>7</td>\n",
       "      <td>9550</td>\n",
       "      <td>1915</td>\n",
       "      <td>140000</td>\n",
       "    </tr>\n",
       "    <tr>\n",
       "      <td rowspan=\"3\" valign=\"top\">Mitchel</td>\n",
       "      <td>5</td>\n",
       "      <td>14115</td>\n",
       "      <td>1993</td>\n",
       "      <td>143000</td>\n",
       "    </tr>\n",
       "    <tr>\n",
       "      <td>7</td>\n",
       "      <td>10382</td>\n",
       "      <td>1973</td>\n",
       "      <td>200000</td>\n",
       "    </tr>\n",
       "    <tr>\n",
       "      <td>8</td>\n",
       "      <td>14260</td>\n",
       "      <td>2000</td>\n",
       "      <td>250000</td>\n",
       "    </tr>\n",
       "    <tr>\n",
       "      <td>Nottinhill</td>\n",
       "      <td>7</td>\n",
       "      <td>11250</td>\n",
       "      <td>2001</td>\n",
       "      <td>223500</td>\n",
       "    </tr>\n",
       "  </tbody>\n",
       "</table>\n",
       "</div>"
      ],
      "text/plain": [
       "                      LotSize  YearBuilt  SalePrice\n",
       "Neighborhood Quality                               \n",
       "BrkSide      5           7420       1939     118000\n",
       "             6           9600       1976     181500\n",
       "             7           6120       1931     129900\n",
       "             8          10084       2004     307000\n",
       "CollgCr      7           8450       2003     208500\n",
       "Crawfor      7           9550       1915     140000\n",
       "Mitchel      5          14115       1993     143000\n",
       "             7          10382       1973     200000\n",
       "             8          14260       2000     250000\n",
       "Nottinhill   7          11250       2001     223500"
      ]
     },
     "execution_count": 28,
     "metadata": {},
     "output_type": "execute_result"
    }
   ],
   "source": [
    "house_df.groupby(['Neighborhood', 'Quality']).mean()"
   ]
  },
  {
   "cell_type": "markdown",
   "metadata": {},
   "source": [
    "## Filters"
   ]
  },
  {
   "cell_type": "code",
   "execution_count": 29,
   "metadata": {},
   "outputs": [
    {
     "data": {
      "text/html": [
       "<div>\n",
       "<style scoped>\n",
       "    .dataframe tbody tr th:only-of-type {\n",
       "        vertical-align: middle;\n",
       "    }\n",
       "\n",
       "    .dataframe tbody tr th {\n",
       "        vertical-align: top;\n",
       "    }\n",
       "\n",
       "    .dataframe thead th {\n",
       "        text-align: right;\n",
       "    }\n",
       "</style>\n",
       "<table border=\"1\" class=\"dataframe\">\n",
       "  <thead>\n",
       "    <tr style=\"text-align: right;\">\n",
       "      <th></th>\n",
       "      <th>LotSize</th>\n",
       "      <th>Neighborhood</th>\n",
       "      <th>YearBuilt</th>\n",
       "      <th>Quality</th>\n",
       "      <th>SalePrice</th>\n",
       "    </tr>\n",
       "  </thead>\n",
       "  <tbody>\n",
       "    <tr>\n",
       "      <td>Baker House</td>\n",
       "      <td>7420</td>\n",
       "      <td>BrkSide</td>\n",
       "      <td>1939</td>\n",
       "      <td>5</td>\n",
       "      <td>118000</td>\n",
       "    </tr>\n",
       "    <tr>\n",
       "      <td>Hamilton House</td>\n",
       "      <td>6120</td>\n",
       "      <td>BrkSide</td>\n",
       "      <td>1931</td>\n",
       "      <td>7</td>\n",
       "      <td>129900</td>\n",
       "    </tr>\n",
       "    <tr>\n",
       "      <td>Martinez House</td>\n",
       "      <td>9600</td>\n",
       "      <td>BrkSide</td>\n",
       "      <td>1976</td>\n",
       "      <td>6</td>\n",
       "      <td>181500</td>\n",
       "    </tr>\n",
       "    <tr>\n",
       "      <td>Snyder House</td>\n",
       "      <td>10084</td>\n",
       "      <td>BrkSide</td>\n",
       "      <td>2004</td>\n",
       "      <td>8</td>\n",
       "      <td>307000</td>\n",
       "    </tr>\n",
       "  </tbody>\n",
       "</table>\n",
       "</div>"
      ],
      "text/plain": [
       "                LotSize Neighborhood  YearBuilt  Quality  SalePrice\n",
       "Baker House        7420      BrkSide       1939        5     118000\n",
       "Hamilton House     6120      BrkSide       1931        7     129900\n",
       "Martinez House     9600      BrkSide       1976        6     181500\n",
       "Snyder House      10084      BrkSide       2004        8     307000"
      ]
     },
     "execution_count": 29,
     "metadata": {},
     "output_type": "execute_result"
    }
   ],
   "source": [
    "house_df[house_df['Neighborhood'] == 'BrkSide']"
   ]
  },
  {
   "cell_type": "code",
   "execution_count": 30,
   "metadata": {},
   "outputs": [
    {
     "data": {
      "text/plain": [
       "LotSize           10084\n",
       "Neighborhood    BrkSide\n",
       "YearBuilt          2004\n",
       "Quality               8\n",
       "SalePrice        307000\n",
       "dtype: object"
      ]
     },
     "execution_count": 30,
     "metadata": {},
     "output_type": "execute_result"
    }
   ],
   "source": [
    "house_df[house_df['Neighborhood'] == 'BrkSide'].max()"
   ]
  },
  {
   "cell_type": "markdown",
   "metadata": {},
   "source": [
    "## Seaborn\n",
    "\n",
    "https://seaborn.pydata.org/index.html"
   ]
  },
  {
   "cell_type": "code",
   "execution_count": 33,
   "metadata": {},
   "outputs": [
    {
     "data": {
      "image/png": "[encoded data removed]",
      "text/plain": [
       "<Figure size 432x288 with 1 Axes>"
      ]
     },
     "metadata": {},
     "output_type": "display_data"
    }
   ],
   "source": [
    "import seaborn as sns\n",
    "import matplotlib.pyplot as plt\n",
    "\n",
    "sns.set(style=\"whitegrid\")\n",
    "sns.barplot(x=\"Neighborhood\", y=\"SalePrice\", hue=\"Quality\", data=house_df);"
   ]
  },
  {
   "cell_type": "code",
   "execution_count": 34,
   "metadata": {},
   "outputs": [
    {
     "data": {
      "text/plain": [
       "<matplotlib.legend.Legend at 0x7f16f18261d0>"
      ]
     },
     "execution_count": 34,
     "metadata": {},
     "output_type": "execute_result"
    },
    {
     "data": {
      "image/png": "[encoded data removed]",
      "text/plain": [
       "<Figure size 432x288 with 1 Axes>"
      ]
     },
     "metadata": {},
     "output_type": "display_data"
    }
   ],
   "source": [
    "sns.barplot(x=\"Neighborhood\", y=\"SalePrice\", hue=\"Quality\", \n",
    "            data=house_df, linewidth=2.5,\n",
    "            errcolor=\".2\", edgecolor=\".2\")\n",
    "\n",
    "plt.legend(bbox_to_anchor=(1.05, 1), loc=2, borderaxespad=0.)"
   ]
  },
  {
   "cell_type": "code",
   "execution_count": null,
   "metadata": {},
   "outputs": [],
   "source": []
  }
 ],
 "metadata": {
  "kernelspec": {
   "display_name": "Python 3",
   "language": "python",
   "name": "python3"
  },
  "language_info": {
   "codemirror_mode": {
    "name": "ipython",
    "version": 3
   },
   "file_extension": ".py",
   "mimetype": "text/x-python",
   "name": "python",
   "nbconvert_exporter": "python",
   "pygments_lexer": "ipython3",
   "version": "3.6.8"
  }
 },
 "nbformat": 4,
 "nbformat_minor": 2
}
