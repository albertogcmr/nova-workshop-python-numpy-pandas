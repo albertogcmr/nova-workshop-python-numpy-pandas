{
 "cells": [
  {
   "cell_type": "markdown",
   "metadata": {},
   "source": [
    "## Ejemplo de prueba de acceso\n",
    "\n",
    "### Intro\n",
    "\n",
    "En la sección **El problema** está el enunciado y solución esperada de la antígua prueba de nivel. Ahora lo utilizaremos en Ironhack Madrid para que compruebes si has adquirido bien los conceptos de las secciones anteriores y si sabes ponerlos en práctica. \n",
    "\n",
    "\n",
    "### El problema\n",
    "\n",
    "Dada una lista de números enteros: \n",
    "```python\n",
    "# variables\n",
    "numeros = [1, 7, 6, 5, 4, 3, 2, 3, 4, 5, 6, 7, 6, 5, 4, 3, 2, 3, 4, 5, 6, 7]\n",
    "```\n",
    "1. Muestra por pantalla los números de esta lista que son mayores que 5. Deberás obtener a la salida lo siguiente: \n",
    "\n",
    "```python\n",
    "7 \n",
    "6 \n",
    "6 \n",
    "7 \n",
    "6 \n",
    "6 \n",
    "7\n",
    "```\n",
    "\n",
    "2. Indica cuántos números de la lista son mayores que 5. Deberás obtener a la salida lo siguiente: \n",
    "\n",
    "```python\n",
    "7\n",
    "```\n",
    "\n",
    "3. Muestra por pantalla una nueva lista que traduzca los elementos de la lista original:\n",
    "\t* Los menores o iguales que 5 serán 0,\n",
    "\t* Los mayores que 5 serán 1.\n",
    "\n",
    "Deberás obtener a la salida lo siguiente: \n",
    "\n",
    "```python\n",
    "[0, 1, 1, 0, 0, 0, 0, 0, 0, 0, 1, 1, 1, 0, 0, 0, 0, 0, 0, 0, 1, 1]\n",
    "```\n",
    "\n",
    "### Solución"
   ]
  },
  {
   "cell_type": "code",
   "execution_count": 1,
   "metadata": {},
   "outputs": [],
   "source": [
    "# Muestra por pantalla los números de esta lista que son mayores que 5\n",
    "\n",
    "# variables\n",
    "numeros = [1, 7, 6, 5, 4, 3, 2, 3, 4, 5, 6, 7, 6, 5, 4, 3, 2, 3, 4, 5, 6, 7]\n",
    "\n"
   ]
  },
  {
   "cell_type": "code",
   "execution_count": 2,
   "metadata": {},
   "outputs": [],
   "source": [
    "# Indica cuántos números de la lista son mayores que 5\n",
    "\n"
   ]
  },
  {
   "cell_type": "code",
   "execution_count": 3,
   "metadata": {},
   "outputs": [],
   "source": [
    "# Muestra por pantalla una nueva lista que traduzca los elementos de la lista original\n",
    "\n"
   ]
  },
  {
   "cell_type": "markdown",
   "metadata": {},
   "source": [
    "## Caracol y el pozo\n",
    "\n",
    "\n",
    "Un caracol cae en el fondo de un pozo de 125 cm. Cada día el caracol se eleva 30 cm. Pero por la noche, mientras duerme, se desliza 20 cm porque las paredes están mojadas. ¿Cuántos días se tarda en escapar del pozo?\n",
    "\n",
    "Pista: http://puzzles.nigelcoldwell.co.uk/sixtytwo.htm\n",
    "\n",
    "### Solución"
   ]
  },
  {
   "cell_type": "code",
   "execution_count": 4,
   "metadata": {},
   "outputs": [],
   "source": [
    "# Asigna las variables del problema a variables con semántica\n",
    "# altura del pozo, avance diario, retroceso nocturno, distancia acumulada\n",
    "\n"
   ]
  },
  {
   "cell_type": "code",
   "execution_count": 5,
   "metadata": {},
   "outputs": [],
   "source": [
    "# Asigna 0 a la variable que representa la solución\n",
    "\n"
   ]
  },
  {
   "cell_type": "code",
   "execution_count": 6,
   "metadata": {},
   "outputs": [],
   "source": [
    "# Escribe código que resuelva el problema. \n",
    "\n"
   ]
  },
  {
   "cell_type": "code",
   "execution_count": 7,
   "metadata": {},
   "outputs": [],
   "source": [
    "# Imprime el resultado\n",
    "\n"
   ]
  }
 ],
 "metadata": {
  "kernelspec": {
   "display_name": "Python 3",
   "language": "python",
   "name": "python3"
  },
  "language_info": {
   "codemirror_mode": {
    "name": "ipython",
    "version": 3
   },
   "file_extension": ".py",
   "mimetype": "text/x-python",
   "name": "python",
   "nbconvert_exporter": "python",
   "pygments_lexer": "ipython3",
   "version": "3.6.8"
  }
 },
 "nbformat": 4,
 "nbformat_minor": 2
}
