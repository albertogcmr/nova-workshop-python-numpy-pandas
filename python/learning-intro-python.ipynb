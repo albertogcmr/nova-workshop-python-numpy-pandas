{
 "cells": [
  {
   "cell_type": "markdown",
   "metadata": {},
   "source": [
    "# Python básico\n",
    "\n",
    "## Conocimientos de Python\n",
    "\n",
    "Python es muy extenso, pero los imprescidibles son listas, bucles y condicionales. \n",
    "\n",
    "![](https://www.tutortonight.com/wp-content/uploads/2017/04/Hello-World-300x200.jpg)\n",
    "### Salida\n",
    "Para mostrar por pantalla un mensaje. \n"
   ]
  },
  {
   "cell_type": "code",
   "execution_count": 1,
   "metadata": {},
   "outputs": [
    {
     "name": "stdout",
     "output_type": "stream",
     "text": [
      "Hello World\n"
     ]
    }
   ],
   "source": [
    "print(\"Hello World\")"
   ]
  },
  {
   "cell_type": "markdown",
   "metadata": {},
   "source": [
    "### Variables\n",
    "Para asignar valores a variables. "
   ]
  },
  {
   "cell_type": "code",
   "execution_count": 2,
   "metadata": {},
   "outputs": [
    {
     "name": "stdout",
     "output_type": "stream",
     "text": [
      "Hello World\n"
     ]
    }
   ],
   "source": [
    "# cadena de caracteres\n",
    "\n",
    "mensaje = \"Hello World\"\n",
    "print(mensaje)"
   ]
  },
  {
   "cell_type": "code",
   "execution_count": 3,
   "metadata": {},
   "outputs": [
    {
     "name": "stdout",
     "output_type": "stream",
     "text": [
      "42\n"
     ]
    }
   ],
   "source": [
    "# número entero\n",
    "a = 40\n",
    "b = 2\n",
    "z = a + b\n",
    "print(z)"
   ]
  },
  {
   "cell_type": "markdown",
   "metadata": {},
   "source": [
    "### Haciendo cálculos\n",
    "Python es una calculadora supervitaminada. "
   ]
  },
  {
   "cell_type": "code",
   "execution_count": 4,
   "metadata": {},
   "outputs": [
    {
     "name": "stdout",
     "output_type": "stream",
     "text": [
      "42\n",
      "2\n",
      "24\n",
      "2.3333333333333335\n",
      "2\n",
      "1\n"
     ]
    }
   ],
   "source": [
    "# cálculos\n",
    "suma = 39 + 3\n",
    "resta = 15 - 13\n",
    "multiplicacion = 12 * 2\n",
    "division = 7 / 3\n",
    "division_entera = 7 // 3\n",
    "modulo = 7 % 3\n",
    "\n",
    "# outputs\n",
    "print(suma)\n",
    "print(resta)\n",
    "print(multiplicacion)\n",
    "print(division)\n",
    "print(division_entera)\n",
    "print(modulo)"
   ]
  },
  {
   "cell_type": "markdown",
   "metadata": {},
   "source": [
    "### Entrada\n",
    "Para escribir con el teclado y que la máquina lo almacene. Luego podremos usarlo y mostrarlo por pantalla si queremos. "
   ]
  },
  {
   "cell_type": "code",
   "execution_count": 5,
   "metadata": {},
   "outputs": [
    {
     "name": "stdout",
     "output_type": "stream",
     "text": [
      "Escribe tu nombre: Goku\n",
      "Hola Goku !\n"
     ]
    }
   ],
   "source": [
    "nombre = input(\"Escribe tu nombre: \")\n",
    "print(\"Hola\", nombre, \"!\")\n"
   ]
  },
  {
   "cell_type": "markdown",
   "metadata": {},
   "source": [
    "### Tipos de datos\n",
    "Para ver el tipo de variable que estamos usando: entero, número con decimales, cadena de caracteres, lista, etc. "
   ]
  },
  {
   "cell_type": "code",
   "execution_count": 6,
   "metadata": {},
   "outputs": [
    {
     "name": "stdout",
     "output_type": "stream",
     "text": [
      "<class 'str'>\n"
     ]
    }
   ],
   "source": [
    "# cadena de caracteres\n",
    "cadena = \"Esto es una cadena de caracteres\"\n",
    "tipo_cadena = type(cadena)\n",
    "print(tipo_cadena)"
   ]
  },
  {
   "cell_type": "code",
   "execution_count": 7,
   "metadata": {},
   "outputs": [
    {
     "name": "stdout",
     "output_type": "stream",
     "text": [
      "<class 'int'>\n"
     ]
    }
   ],
   "source": [
    "# número entero\n",
    "entero = 42\n",
    "tipo_entero = type(entero)\n",
    "print(tipo_entero)"
   ]
  },
  {
   "cell_type": "code",
   "execution_count": 8,
   "metadata": {},
   "outputs": [
    {
     "name": "stdout",
     "output_type": "stream",
     "text": [
      "<class 'float'>\n"
     ]
    }
   ],
   "source": [
    "# número con decimales\n",
    "flotante = 42.42\n",
    "tipo_flotante = type(flotante)\n",
    "print(tipo_flotante)"
   ]
  },
  {
   "cell_type": "code",
   "execution_count": 9,
   "metadata": {},
   "outputs": [
    {
     "name": "stdout",
     "output_type": "stream",
     "text": [
      "<class 'list'>\n"
     ]
    }
   ],
   "source": [
    "# lista\n",
    "lista = [1,2,3,4,5,1,2,3,4,5]\n",
    "tipo_lista = type(lista)\n",
    "print(tipo_lista)\n"
   ]
  },
  {
   "cell_type": "markdown",
   "metadata": {},
   "source": [
    "### Contar e indexar\n",
    "Para ver la longitud de algo que se pueda recorrer: lista, cadena de caracteres, tupla, diccionario, etc.\n",
    "Para seleccionar un elemento por su índice\n"
   ]
  },
  {
   "cell_type": "code",
   "execution_count": 10,
   "metadata": {},
   "outputs": [
    {
     "name": "stdout",
     "output_type": "stream",
     "text": [
      "11\n",
      "e\n",
      "x\n",
      "s\n"
     ]
    }
   ],
   "source": [
    "hechizo = \"expeliarmus\"\n",
    "\n",
    "print(len(hechizo))\n",
    "print(hechizo[0])\n",
    "print(hechizo[1])\n",
    "print(hechizo[-1])"
   ]
  },
  {
   "cell_type": "markdown",
   "metadata": {},
   "source": [
    "### Listas\n",
    "La salsa de python. Las listas no tienen límite. \n"
   ]
  },
  {
   "cell_type": "code",
   "execution_count": 11,
   "metadata": {},
   "outputs": [
    {
     "name": "stdout",
     "output_type": "stream",
     "text": [
      "[3, 4, 3, 5, 7, 4, 3, 1, 1]\n",
      "['Naruto', 'Sakura', 'Sasuke', 'Hinata', 'Shikamaru']\n",
      "['apple', 390, 876, 'orange', 'highway', 0.42, 87]\n",
      "[[3, 4, 5], [1, 2, 3], [7, 3, 2]]\n"
     ]
    }
   ],
   "source": [
    "# Ejemplos de listas. \n",
    "numeros = [3,4,3,5,7,4,3,1,1]\n",
    "ninjas = ['Naruto', 'Sakura', 'Sasuke', 'Hinata', 'Shikamaru']\n",
    "mezcla = ['apple', 390, 876, 'orange', 'highway', 0.42, 87]\n",
    "\n",
    "# Esto es una lista de listas que asignamos a la variable de nombre matriz\n",
    "matriz = [[3,4,5], [1,2,3], [7,3,2]]\n",
    "\n",
    "print(numeros)\n",
    "print(ninjas)\n",
    "print(mezcla)\n",
    "print(matriz)"
   ]
  },
  {
   "cell_type": "code",
   "execution_count": 12,
   "metadata": {},
   "outputs": [
    {
     "name": "stdout",
     "output_type": "stream",
     "text": [
      "Naruto\n",
      "Shikamaru\n",
      "[3, 4, 5]\n"
     ]
    }
   ],
   "source": [
    "# Para seleccionar un elemento por su índice\n",
    "print(ninjas[0])\n",
    "print(ninjas[-1])\n",
    "print(matriz[0])"
   ]
  },
  {
   "cell_type": "code",
   "execution_count": 13,
   "metadata": {},
   "outputs": [
    {
     "name": "stdout",
     "output_type": "stream",
     "text": [
      "['Naruto', 'Sasuke', 'Shikamaru']\n",
      "['Sakura', 'Sasuke', 'Hinata']\n",
      "['Shikamaru', 'Hinata', 'Sasuke', 'Sakura', 'Naruto']\n"
     ]
    }
   ],
   "source": [
    "# lista[start: stop: step]\n",
    "print(ninjas[::2])\n",
    "print(ninjas[1:4])\n",
    "print(ninjas[::-1])"
   ]
  },
  {
   "cell_type": "code",
   "execution_count": 14,
   "metadata": {},
   "outputs": [
    {
     "name": "stdout",
     "output_type": "stream",
     "text": [
      "['Naruto', 'Sakura', 'Sasuke', 'Hinata', 'Shikamaru']\n",
      "['Naruto', 'Sakura', 'Sasuke', 'Hinata', 'Shikamaru', 'Kakashi']\n"
     ]
    }
   ],
   "source": [
    "# añadir un elemento nuevo al final de un lista. append()\n",
    "print(ninjas)\n",
    "ninjas.append('Kakashi')\n",
    "print(ninjas)"
   ]
  },
  {
   "cell_type": "code",
   "execution_count": 15,
   "metadata": {},
   "outputs": [
    {
     "name": "stdout",
     "output_type": "stream",
     "text": [
      "['Harry', 'Hermione', 'Ron']\n",
      "['Dumbledore', 'Severus', 'Hagrid']\n",
      "['Harry', 'Hermione', 'Ron', 'Dumbledore', 'Severus', 'Hagrid']\n"
     ]
    }
   ],
   "source": [
    "# sumar listas\n",
    "estudiantes = ['Harry', 'Hermione', 'Ron']\n",
    "profesores = ['Dumbledore', 'Severus', 'Hagrid']\n",
    "print(estudiantes)\n",
    "print(profesores)\n",
    "hogwards = estudiantes + profesores\n",
    "print(hogwards)"
   ]
  },
  {
   "cell_type": "code",
   "execution_count": 16,
   "metadata": {},
   "outputs": [
    {
     "name": "stdout",
     "output_type": "stream",
     "text": [
      "275.5\n"
     ]
    }
   ],
   "source": [
    "# media de un conjunto de números\n",
    "numeros = [34, 12, 93, 783, 330, 896, 1, 55]\n",
    "suma = sum(numeros)\n",
    "longitud = len(numeros)\n",
    "media = suma / longitud\n",
    "print(media)"
   ]
  },
  {
   "cell_type": "code",
   "execution_count": 17,
   "metadata": {},
   "outputs": [
    {
     "name": "stdout",
     "output_type": "stream",
     "text": [
      "1\n",
      "896\n"
     ]
    }
   ],
   "source": [
    "# mínimo y máximo\n",
    "minimo = min(numeros)\n",
    "maximo = max(numeros)\n",
    "print(minimo)\n",
    "print(maximo)"
   ]
  },
  {
   "cell_type": "code",
   "execution_count": 18,
   "metadata": {},
   "outputs": [
    {
     "name": "stdout",
     "output_type": "stream",
     "text": [
      "[1, 12, 34, 55, 93, 330, 783, 896]\n"
     ]
    }
   ],
   "source": [
    "# Ordenación\n",
    "numeros_ordenados = sorted(numeros)\n",
    "print(numeros_ordenados)"
   ]
  },
  {
   "cell_type": "markdown",
   "metadata": {},
   "source": [
    "### Conjuntos\n",
    "Los conjuntos son agrupaciones de elementos pero no se almacenan repetidos. \n",
    "\n"
   ]
  },
  {
   "cell_type": "code",
   "execution_count": 19,
   "metadata": {},
   "outputs": [
    {
     "name": "stdout",
     "output_type": "stream",
     "text": [
      "['Alien', 'Terminator 2', 'Arma Letal', 'Alien', 'Terminator 2']\n",
      "{'Arma Letal', 'Alien', 'Terminator 2'}\n"
     ]
    }
   ],
   "source": [
    "# lista con valores repetidos\n",
    "lista_peliculas_cine = ['Alien', 'Terminator 2', 'Arma Letal', 'Alien', 'Terminator 2']\n",
    "\n",
    "# conjunto con los valores de la lista sin repetir\n",
    "opciones_peliculas = set(lista_peliculas_cine)\n",
    "\n",
    "print(lista_peliculas_cine)\n",
    "print(opciones_peliculas)"
   ]
  },
  {
   "cell_type": "markdown",
   "metadata": {},
   "source": [
    "### Diccionarios\n",
    "Para obtener un dato a partir de otro. La película **Alien** tiene una valoración de **9.5**. "
   ]
  },
  {
   "cell_type": "code",
   "execution_count": 20,
   "metadata": {},
   "outputs": [
    {
     "name": "stdout",
     "output_type": "stream",
     "text": [
      "9.5\n",
      "dict_keys(['Alien', 'Terminator 2', 'Arma Letal'])\n",
      "dict_values([9.5, 8.9, 7.3])\n",
      "dict_items([('Alien', 9.5), ('Terminator 2', 8.9), ('Arma Letal', 7.3)])\n"
     ]
    }
   ],
   "source": [
    "# diccionario de película y valoración dada\n",
    "valoraciones = {'Alien':9.5, 'Terminator 2':8.9, 'Arma Letal':7.3}\n",
    "\n",
    "# algunos métodos de diccionarios\n",
    "print(valoraciones['Alien'])\n",
    "print(valoraciones.keys())\n",
    "print(valoraciones.values())\n",
    "print(valoraciones.items())"
   ]
  },
  {
   "cell_type": "markdown",
   "metadata": {},
   "source": [
    "### Tipos booleanos (True, False)\n",
    "_Ser o no ser._ `True o False`"
   ]
  },
  {
   "cell_type": "code",
   "execution_count": 21,
   "metadata": {},
   "outputs": [
    {
     "name": "stdout",
     "output_type": "stream",
     "text": [
      "True\n",
      "True\n",
      "True\n",
      "False\n"
     ]
    }
   ],
   "source": [
    "print(5 + 5 == 10)\n",
    "print('isla' != 'pantano')\n",
    "print(100 >= 75)\n",
    "print(93 <= 80)"
   ]
  },
  {
   "cell_type": "code",
   "execution_count": 22,
   "metadata": {},
   "outputs": [
    {
     "name": "stdout",
     "output_type": "stream",
     "text": [
      "True\n",
      "False\n"
     ]
    }
   ],
   "source": [
    "# para ver si un elemento se encuentra en un conjunto o lista usaremos in\n",
    "print(3 in [1,2,3,4,5])\n",
    "print(3 not in [1,2,3,4,5])"
   ]
  },
  {
   "cell_type": "code",
   "execution_count": 23,
   "metadata": {},
   "outputs": [
    {
     "name": "stdout",
     "output_type": "stream",
     "text": [
      "True\n",
      "False\n",
      "True\n",
      "False\n"
     ]
    }
   ],
   "source": [
    "print((5 + 5 == 10) and ('isla' != 'pantano'))\n",
    "print((100 > 75) and (93 < 80))\n",
    "print((100 > 75) or (93 < 80))\n",
    "print((93 < 80) or (3 not in [1,2,3,4,5]))"
   ]
  },
  {
   "cell_type": "markdown",
   "metadata": {},
   "source": [
    "### Indentación y errores\n",
    "Otros lenguajes menos amigables con los nuevos programadores usan llaves **{}** para encerrar código que debe ir dentro de un bloque. Si te has fijado cada vez que hemos usado for, if, else hemos puesto : y luego el resto del código va tabulado (indentado) a la derecha. Y así podemos anidar código. "
   ]
  },
  {
   "cell_type": "code",
   "execution_count": 24,
   "metadata": {},
   "outputs": [
    {
     "ename": "IndentationError",
     "evalue": "expected an indented block (<ipython-input-24-fee61d777f3b>, line 3)",
     "output_type": "error",
     "traceback": [
      "\u001b[0;36m  File \u001b[0;32m\"<ipython-input-24-fee61d777f3b>\"\u001b[0;36m, line \u001b[0;32m3\u001b[0m\n\u001b[0;31m    print(x)\u001b[0m\n\u001b[0m        ^\u001b[0m\n\u001b[0;31mIndentationError\u001b[0m\u001b[0;31m:\u001b[0m expected an indented block\n"
     ]
    }
   ],
   "source": [
    "# Este código da error de indentación. print(x) debería estár más a la derecha\n",
    "for x in range(10): \n",
    "print(x)"
   ]
  },
  {
   "cell_type": "markdown",
   "metadata": {},
   "source": [
    "Verás que Python lanza un error. Lo que debes hacer es tabular correctamente la línea indicada\n",
    "\n",
    "![error de indentación](images/indentation-error2.png)"
   ]
  },
  {
   "cell_type": "markdown",
   "metadata": {},
   "source": [
    "### Condicionales (if - elif - else)\n",
    "Para la toma de decisiones. \n"
   ]
  },
  {
   "cell_type": "code",
   "execution_count": 25,
   "metadata": {},
   "outputs": [
    {
     "name": "stdout",
     "output_type": "stream",
     "text": [
      "Introduce un número entero: 44\n",
      "El número 44 es mayor que 42\n"
     ]
    }
   ],
   "source": [
    "entrada = input(\"Introduce un número entero: \")\n",
    "\n",
    "# convertimos la cadena de caracteres en entero. Esta operación se llama cast. \n",
    "numero = int(entrada)\n",
    "\n",
    "# Ahora veamos que has puesto\n",
    "if numero == 42: \n",
    "    print(\"Has elegido 42\")\n",
    "elif numero < 42: \n",
    "    print(\"El número\", numero, \"es menor que 42\")\n",
    "else: \n",
    "    print(\"El número\", numero, \"es mayor que 42\")\n",
    "    \n",
    "# prueba 43, \"asdf\""
   ]
  },
  {
   "cell_type": "markdown",
   "metadata": {},
   "source": [
    "### Bucles con Python\n",
    "Para automatizarlo todo. "
   ]
  },
  {
   "cell_type": "code",
   "execution_count": 26,
   "metadata": {},
   "outputs": [
    {
     "name": "stdout",
     "output_type": "stream",
     "text": [
      "0\n",
      "1\n",
      "2\n",
      "3\n",
      "4\n",
      "5\n",
      "6\n",
      "7\n",
      "8\n",
      "9\n"
     ]
    }
   ],
   "source": [
    "# Primer ejemplo: range\n",
    "for numero in range(10):\n",
    "    print(numero)"
   ]
  },
  {
   "cell_type": "code",
   "execution_count": 27,
   "metadata": {},
   "outputs": [
    {
     "name": "stdout",
     "output_type": "stream",
     "text": [
      "5\n",
      "7\n",
      "9\n",
      "11\n",
      "13\n"
     ]
    }
   ],
   "source": [
    "# Segundo ejemplo: range(start: stop: step)\n",
    "for numero in range(5, 15, 2):\n",
    "    print(numero)"
   ]
  },
  {
   "cell_type": "code",
   "execution_count": 28,
   "metadata": {},
   "outputs": [
    {
     "name": "stdout",
     "output_type": "stream",
     "text": [
      "Naruto\n",
      "Sakura\n",
      "Sasuke\n",
      "Hinata\n",
      "Shikamaru\n"
     ]
    }
   ],
   "source": [
    "# Tercer ejemplo\n",
    "ninjas = ['Naruto', 'Sakura', 'Sasuke', 'Hinata', 'Shikamaru']\n",
    "for ninja in ninjas: \n",
    "    print(ninja)"
   ]
  },
  {
   "cell_type": "code",
   "execution_count": 29,
   "metadata": {},
   "outputs": [
    {
     "name": "stdout",
     "output_type": "stream",
     "text": [
      "pelicula:Alien\n",
      "pelicula:Terminator 2\n",
      "pelicula:Arma Letal\n",
      "valoraciones:9.5\n",
      "valoraciones:8.9\n",
      "valoraciones:7.3\n",
      "Alien tiene una puntuacion de 9.5\n",
      "Terminator 2 tiene una puntuacion de 8.9\n",
      "Arma Letal tiene una puntuacion de 7.3\n"
     ]
    }
   ],
   "source": [
    "# Cuarto ejemplo\n",
    "valoraciones = {'Alien':9.5, 'Terminator 2':8.9, 'Arma Letal':7.3}\n",
    "\n",
    "for peli in valoraciones.keys(): \n",
    "    print(\"pelicula:\" + peli)\n",
    "\n",
    "for valoracion in valoraciones.values(): \n",
    "    # str(x) -> convierte x a tipo cadena de caracteres para \n",
    "    # poder encadenarla a \"valoraciones:\"\n",
    "    print(\"valoraciones:\" + str(valoracion)) \n",
    "\n",
    "for peli, puntuacion in valoraciones.items(): \n",
    "    print(peli, \"tiene una puntuacion de\", puntuacion)"
   ]
  },
  {
   "cell_type": "code",
   "execution_count": 30,
   "metadata": {},
   "outputs": [
    {
     "name": "stdout",
     "output_type": "stream",
     "text": [
      "2204\n"
     ]
    }
   ],
   "source": [
    "# Quinto ejemplo: cálculo de la suma\n",
    "numeros = [34, 12, 93, 783, 330, 896, 1, 55]\n",
    "total = 0\n",
    "for numero in numeros: \n",
    "    total += numero\n",
    "print(total)"
   ]
  },
  {
   "cell_type": "code",
   "execution_count": 31,
   "metadata": {},
   "outputs": [
    {
     "name": "stdout",
     "output_type": "stream",
     "text": [
      "[4, 9, 16, 25]\n"
     ]
    }
   ],
   "source": [
    "# Sexto ejemplo: \n",
    "lista = []\n",
    "for x in range(2, 6): \n",
    "    numero = x**2\n",
    "    lista.append(numero)\n",
    "print(lista)"
   ]
  },
  {
   "cell_type": "code",
   "execution_count": 32,
   "metadata": {},
   "outputs": [
    {
     "name": "stdout",
     "output_type": "stream",
     "text": [
      "\n",
      "Harry vió Alien y le puso una nota de 9.5\n",
      "Harry vió Terminator 2 y le puso una nota de 8.9\n",
      "Harry vió Arma Letal y le puso una nota de 7.3\n",
      "\n",
      "Hermione vió Alien y le puso una nota de 9.5\n",
      "Hermione vió Terminator 2 y le puso una nota de 8.9\n",
      "Hermione vió Arma Letal y le puso una nota de 7.3\n",
      "\n",
      "Ron vió Alien y le puso una nota de 9.5\n",
      "Ron vió Terminator 2 y le puso una nota de 8.9\n",
      "Ron vió Arma Letal y le puso una nota de 7.3\n"
     ]
    }
   ],
   "source": [
    "# Séptimo ejemplo: Bucle doble\n",
    "valoraciones = {'Alien':9.5, 'Terminator 2':8.9, 'Arma Letal':7.3}\n",
    "estudiantes = ['Harry', 'Hermione', 'Ron']\n",
    "for estudiante in estudiantes: \n",
    "    print()\n",
    "    for peli, valoracion in valoraciones.items(): \n",
    "        print(estudiante, \"vió\", peli, \"y le puso una nota de\", valoracion)"
   ]
  },
  {
   "cell_type": "code",
   "execution_count": null,
   "metadata": {},
   "outputs": [],
   "source": []
  },
  {
   "cell_type": "code",
   "execution_count": null,
   "metadata": {},
   "outputs": [],
   "source": []
  }
 ],
 "metadata": {
  "kernelspec": {
   "display_name": "Python 3",
   "language": "python",
   "name": "python3"
  },
  "language_info": {
   "codemirror_mode": {
    "name": "ipython",
    "version": 3
   },
   "file_extension": ".py",
   "mimetype": "text/x-python",
   "name": "python",
   "nbconvert_exporter": "python",
   "pygments_lexer": "ipython3",
   "version": "3.6.8"
  }
 },
 "nbformat": 4,
 "nbformat_minor": 2
}
