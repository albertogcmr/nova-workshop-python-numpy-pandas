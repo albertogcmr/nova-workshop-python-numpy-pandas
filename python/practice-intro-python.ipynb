{
 "cells": [
  {
   "cell_type": "markdown",
   "metadata": {},
   "source": [
    "# Python practice exercises\n",
    "\n",
    "## Ejemplo de prueba de acceso 1\n",
    "\n",
    "### El problema\n",
    "\n",
    "Dada una lista de elementos (string) imprime dichos elementos precedidos del correcto artículo determinado: el, la. "
   ]
  },
  {
   "cell_type": "code",
   "execution_count": null,
   "metadata": {},
   "outputs": [],
   "source": [
    "# Muestra por pantalla los elementos de esta lista con su correcto artículo determinado. \n",
    "\n",
    "# variables\n",
    "palabras = [\"katana\", \"castillo\", \"emboscada\", \"caza\", \"batalla\", \"soldado\", \"arco\"]\n",
    "\n",
    "# escribe aquí tu código. \n"
   ]
  },
  {
   "cell_type": "markdown",
   "metadata": {},
   "source": [
    "### Solución esperada\n",
    "\n",
    "```python\n",
    "la katana\n",
    "el castillo\n",
    "la emboscada\n",
    "la caza\n",
    "la batalla\n",
    "el soldado\n",
    "el arco\n",
    "```"
   ]
  },
  {
   "cell_type": "markdown",
   "metadata": {},
   "source": [
    "## Ejemplo de prueba de acceso 2\n",
    "\n",
    "### Intro\n",
    "\n",
    "En la sección **El problema** está el enunciado y solución esperada de la antígua prueba de nivel. Ahora lo utilizaremos en Ironhack Madrid para que compruebes si has adquirido bien los conceptos de las secciones anteriores y si sabes ponerlos en práctica. \n",
    "\n",
    "\n",
    "### El problema\n",
    "\n",
    "Dada una lista de números enteros: \n",
    "```python\n",
    "# variables\n",
    "numeros = [1, 7, 6, 5, 4, 3, 2, 3, 4, 5, 6, 7, 6, 5, 4, 3, 2, 3, 4, 5, 6, 7]\n",
    "```\n",
    "1. Muestra por pantalla los números de esta lista que son mayores que 5. Deberás obtener a la salida lo siguiente: \n",
    "\n",
    "```python\n",
    "7 \n",
    "6 \n",
    "6 \n",
    "7 \n",
    "6 \n",
    "6 \n",
    "7\n",
    "```\n",
    "\n",
    "2. Indica cuántos números de la lista son mayores que 5. Deberás obtener a la salida lo siguiente: \n",
    "\n",
    "```python\n",
    "7\n",
    "```\n",
    "\n",
    "3. Muestra por pantalla una nueva lista que traduzca los elementos de la lista original:\n",
    "\t* Los menores o iguales que 5 serán 0,\n",
    "\t* Los mayores que 5 serán 1.\n",
    "\n",
    "Deberás obtener a la salida lo siguiente: \n",
    "\n",
    "```python\n",
    "[0, 1, 1, 0, 0, 0, 0, 0, 0, 0, 1, 1, 1, 0, 0, 0, 0, 0, 0, 0, 1, 1]\n",
    "```\n",
    "\n",
    "### Solución"
   ]
  },
  {
   "cell_type": "code",
   "execution_count": null,
   "metadata": {},
   "outputs": [],
   "source": [
    "# Muestra por pantalla los números de esta lista que son mayores que 5\n",
    "\n",
    "# variables\n",
    "numeros = [1, 7, 6, 5, 4, 3, 2, 3, 4, 5, 6, 7, 6, 5, 4, 3, 2, 3, 4, 5, 6, 7]\n",
    "\n"
   ]
  },
  {
   "cell_type": "code",
   "execution_count": null,
   "metadata": {},
   "outputs": [],
   "source": [
    "# Indica cuántos números de la lista son mayores que 5\n",
    "\n"
   ]
  },
  {
   "cell_type": "code",
   "execution_count": null,
   "metadata": {},
   "outputs": [],
   "source": [
    "# Muestra por pantalla una nueva lista que traduzca los elementos de la lista original\n",
    "\n"
   ]
  },
  {
   "cell_type": "markdown",
   "metadata": {},
   "source": [
    "## Mission Impossible\n",
    "### Intro\n",
    "\n",
    "Good morning, Mr. Hunt. Your mission, should you choose to accept it, involves the recovery of a stolen item designated \"Chimera.\" You may select any two team members, but it is essential that the third member of your team be Nyah Nordoff-Hall. She is a civilian, and a highly capable professional thief. You have forty-eight hours to recruit Miss Hall and meet me in Seville to receive your assignment. As always, should any member of your team be caught or killed, the Secretary will disavow all knowledge of your actions. And Mr. Hunt, the next time you go on holiday, please be good enough to let us know where you're going. This message will self-destruct in five seconds.\n",
    "\n",
    "\n",
    "\n",
    "### Problem\n",
    "\n",
    "You are the computer scientist who has to protect valuable national intelligence data. This data is in a computer without internet connection in a room with a tactile floor that detects the pressure. But you've discovered that more than one spy has infiltrated and stolen data, so you have to implement and test the new security system.\n",
    "\n",
    "An ultrasensitive microphone has been installed that records all sound in the room. The list of sounds is stored in a list called dbs. As soon as the door closes it will alert if noise is detected above a threshold of 10 decibels: the alarm will sound and alert the entire building.\n",
    "\n",
    "Each item in the dbs list corresponds to a 5 second interval\n",
    "```python\n",
    "dbs = [0, 1, 0, 0, 0, 0, 1, 0, 1, 23, 1, 0, 1, 1, 0, 0, 0, \n",
    "       1, 1, 0, 20, 1, 1, 15, 1, 0, 0, 0, 40, 15, 0, 0]\n",
    "```"
   ]
  },
  {
   "cell_type": "code",
   "execution_count": null,
   "metadata": {},
   "outputs": [],
   "source": [
    "# Variables\n",
    "\n",
    "dbs = [0, 1, 0, 0, 0, 0, 1, 0, 1, 23, 1, 0, 1, 1, 0, 0, 0, \n",
    "       1, 1, 0, 20, 1, 1, 15, 1, 0, 0, 0, 40, 15, 0, 0]"
   ]
  },
  {
   "cell_type": "code",
   "execution_count": null,
   "metadata": {},
   "outputs": [],
   "source": [
    "# Show volumes that exceed 10 dBs"
   ]
  },
  {
   "cell_type": "markdown",
   "metadata": {},
   "source": [
    "**Expected output**:\n",
    "```python\n",
    "[23, 20, 15, 40, 15]\n",
    "```"
   ]
  },
  {
   "cell_type": "code",
   "execution_count": null,
   "metadata": {},
   "outputs": [],
   "source": [
    "# Show the moments (indexs of the list) in which a volume exceeds 10 dBs\n",
    "\n"
   ]
  },
  {
   "cell_type": "markdown",
   "metadata": {},
   "source": [
    "**Expected output**:\n",
    "```python\n",
    "[9, 20, 23, 28, 29]\n",
    "```"
   ]
  },
  {
   "cell_type": "code",
   "execution_count": null,
   "metadata": {},
   "outputs": [],
   "source": [
    "# Combine the last two exercises to show the moments when a \n",
    "# volume exceeds 10 dBs. HINT: Use the enumerate function\n",
    "\n"
   ]
  },
  {
   "cell_type": "markdown",
   "metadata": {},
   "source": [
    "**Expected output**:\n",
    "```python\n",
    "[(9, 23), (20, 20), (23, 15), (28, 40), (29, 15)]\n",
    "```"
   ]
  },
  {
   "cell_type": "code",
   "execution_count": null,
   "metadata": {},
   "outputs": [],
   "source": [
    "# Ethan is discovered if two consecutive volumes are greater than 10 dB. Is he safe? \n",
    "# HINT: Beware of the extremes, do not have an error of the type\n",
    "# IndexError: list index out of range\n",
    "\n"
   ]
  },
  {
   "cell_type": "markdown",
   "metadata": {},
   "source": [
    "Expected output:\n",
    "```python\n",
    "Alarm!\n",
    "```"
   ]
  },
  {
   "cell_type": "markdown",
   "metadata": {},
   "source": [
    "### LINKS\n",
    "\n",
    "* [Enumerate](https://www.programiz.com/python-programming/methods/built-in/enumerate)\n",
    "* [Decibel](https://en.wikipedia.org/wiki/Decibel)"
   ]
  },
  {
   "cell_type": "markdown",
   "metadata": {},
   "source": [
    "## Caracol y el pozo\n",
    "\n",
    "\n",
    "Un caracol cae en el fondo de un pozo de 125 cm. Cada día el caracol se eleva 30 cm. Pero por la noche, mientras duerme, se desliza 20 cm porque las paredes están mojadas. ¿Cuántos días se tarda en escapar del pozo?\n",
    "\n",
    "[Pista](http://puzzles.nigelcoldwell.co.uk/sixtytwo.htm)\n",
    "\n",
    "AYUDA: Un bucle [while](https://www.w3schools.com/python/python_while_loops.asp) es lo mejor en este caso. \n",
    "\n",
    "### Solución"
   ]
  },
  {
   "cell_type": "code",
   "execution_count": null,
   "metadata": {},
   "outputs": [],
   "source": [
    "# Asigna las variables del problema a variables con semántica\n",
    "# altura del pozo, avance diario, retroceso nocturno, distancia acumulada\n",
    "\n"
   ]
  },
  {
   "cell_type": "code",
   "execution_count": null,
   "metadata": {},
   "outputs": [],
   "source": [
    "# Asigna 0 a la variable que representa la solución\n",
    "\n"
   ]
  },
  {
   "cell_type": "code",
   "execution_count": null,
   "metadata": {},
   "outputs": [],
   "source": [
    "# Escribe código que resuelva el problema. \n",
    "\n"
   ]
  },
  {
   "cell_type": "code",
   "execution_count": null,
   "metadata": {},
   "outputs": [],
   "source": [
    "# Imprime el resultado\n",
    "\n"
   ]
  },
  {
   "cell_type": "code",
   "execution_count": null,
   "metadata": {},
   "outputs": [],
   "source": []
  },
  {
   "cell_type": "code",
   "execution_count": null,
   "metadata": {},
   "outputs": [],
   "source": []
  }
 ],
 "metadata": {
  "kernelspec": {
   "display_name": "Python 3",
   "language": "python",
   "name": "python3"
  },
  "language_info": {
   "codemirror_mode": {
    "name": "ipython",
    "version": 3
   },
   "file_extension": ".py",
   "mimetype": "text/x-python",
   "name": "python",
   "nbconvert_exporter": "python",
   "pygments_lexer": "ipython3",
   "version": "3.6.8"
  }
 },
 "nbformat": 4,
 "nbformat_minor": 2
}
